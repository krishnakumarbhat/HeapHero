{
 "cells": [
  {
   "cell_type": "code",
   "execution_count": 1,
   "id": "b7293b46-003b-49b6-83b9-278d547a637f",
   "metadata": {},
   "outputs": [],
   "source": [
    "import numpy as np\n",
    "import matplotlib.pyplot as plt\n",
    "from skimage import measure\n",
    "from stl import mesh"
   ]
  },
  {
   "cell_type": "markdown",
   "id": "03d62592-1735-46c5-a658-116690b11e50",
   "metadata": {},
   "source": [
    "# Generating Own Mask"
   ]
  },
  {
   "cell_type": "markdown",
   "id": "6b2710f0-9bb4-4c52-bc4f-7ea5bfcd31b8",
   "metadata": {},
   "source": [
    "We are dealing with a 3D image. Consider the $z$ axis: for each slice along this access, consider the mask\n",
    "\n",
    "$$z \\leq  x^2 + y^2 \\leq 1.5z$$\n",
    "\n",
    "This mask is a ring, and these rings grow larger as $z$ grows larger. To make this mask, we can use 2D/3D meshgrids:"
   ]
  },
  {
   "cell_type": "code",
   "execution_count": 2,
   "id": "d44862b6-6bcc-4a0a-91ae-afdb860ebb1d",
   "metadata": {},
   "outputs": [],
   "source": [
    "x = y = np.linspace(-1,1,100)\n",
    "z = np.linspace(0,0.5,100)\n",
    "x2d, y2d = np.meshgrid(x,y, indexing='xy')\n",
    "x3d, y3d, z3d = np.meshgrid(x,y,z, indexing='xy')"
   ]
  },
  {
   "cell_type": "markdown",
   "id": "0443a6ae-9adc-4fad-ba53-ffe118533c44",
   "metadata": {},
   "source": [
    "Create the mask"
   ]
  },
  {
   "cell_type": "code",
   "execution_count": 3,
   "id": "ebd3a0ca-f411-4c9c-aa83-b0c2fabd72d3",
   "metadata": {},
   "outputs": [],
   "source": [
    "mask = (x3d**2 + y3d**2 >= z3d) * (x3d**2 + y3d**2 <= 1.5*z3d)\n",
    "mask[:,:,-1] = 0\n",
    "mask[:,:,0] = 0"
   ]
  },
  {
   "cell_type": "code",
   "execution_count": 4,
   "id": "6f2e6b73-8e13-4233-8de1-992b84de9205",
   "metadata": {},
   "outputs": [
    {
     "data": {
      "text/plain": [
       "<matplotlib.collections.QuadMesh at 0x1ceb923cd90>"
      ]
     },
     "execution_count": 4,
     "metadata": {},
     "output_type": "execute_result"
    },
    {
     "data": {
      "image/png": "[encoded data removed]",
      "text/plain": [
       "<Figure size 360x360 with 1 Axes>"
      ]
     },
     "metadata": {
      "needs_background": "light"
     },
     "output_type": "display_data"
    }
   ],
   "source": [
    "plt.figure(figsize=(5,5))\n",
    "plt.pcolormesh(x2d, y2d, mask[:,:,-2])"
   ]
  },
  {
   "cell_type": "code",
   "execution_count": 25,
   "id": "533fc37e-3ccf-4be8-9feb-e9ff572257eb",
   "metadata": {},
   "outputs": [],
   "source": [
    "verts, faces, normals, values = measure.marching_cubes(mask)"
   ]
  },
  {
   "cell_type": "code",
   "execution_count": 26,
   "id": "e87d71d9-ce8e-4095-ac9b-fb5e1417b15d",
   "metadata": {},
   "outputs": [
    {
     "data": {
      "text/plain": [
       "array([[ 6.5, 46. , 98. ],\n",
       "       [ 7. , 46. , 97.5],\n",
       "       [ 7. , 45.5, 98. ],\n",
       "       ...,\n",
       "       [92.5, 51. , 98. ],\n",
       "       [92.5, 52. , 98. ],\n",
       "       [92.5, 53. , 98. ]], dtype=float32)"
      ]
     },
     "execution_count": 26,
     "metadata": {},
     "output_type": "execute_result"
    }
   ],
   "source": [
    "verts"
   ]
  },
  {
   "cell_type": "markdown",
   "id": "840bfc73-509a-4e87-ad05-46e6dd026284",
   "metadata": {},
   "source": [
    "The vertices are a list of points that exist on the object (these correspond to ($x$, $y$, $z$) coordinates)"
   ]
  },
  {
   "cell_type": "code",
   "execution_count": 30,
   "id": "66da121f-a834-4f52-8f1e-6676cbb5c246",
   "metadata": {},
   "outputs": [],
   "source": [
    "dx = np.diff(x)[0]\n",
    "dy = np.diff(y)[0]\n",
    "dz = np.diff(z)[0]\n",
    "dr = np.array([dx,dy,dz])"
   ]
  },
  {
   "cell_type": "code",
   "execution_count": 32,
   "id": "f07c2d71-22be-40d2-a916-b3f1215e1b13",
   "metadata": {},
   "outputs": [],
   "source": [
    "verts = verts*dr"
   ]
  },
  {
   "cell_type": "markdown",
   "id": "9fe6f94c-32fa-4f42-ad32-09dfdf8b8385",
   "metadata": {},
   "source": [
    "Each face in faces gives the index of three vertices. A triangle is drawn between these 3 vertices in an STL file (this is how 3D graphics are made)"
   ]
  },
  {
   "cell_type": "code",
   "execution_count": 34,
   "id": "770d93e8-1d27-494c-a535-b69a34064e33",
   "metadata": {},
   "outputs": [
    {
     "data": {
      "text/plain": [
       "array([[    2,     1,     0],\n",
       "       [    0,     3,     2],\n",
       "       [    0,     1,     4],\n",
       "       ...,\n",
       "       [52134, 52167, 52166],\n",
       "       [52167, 52145, 52139],\n",
       "       [52145, 52167, 52140]])"
      ]
     },
     "execution_count": 34,
     "metadata": {},
     "output_type": "execute_result"
    }
   ],
   "source": [
    "faces"
   ]
  },
  {
   "cell_type": "markdown",
   "id": "3886b254-a96b-47ea-82ed-c4885c100262",
   "metadata": {},
   "source": [
    "* **Faces** correspond to a list of 3 indices (1,2,3,4) that specify a triangle\n",
    "* **Vertices** are the actual vectors corresponding to these indices ($\\vec{r}_1$, $\\vec{r}_2$, ...)\n",
    "\n",
    "<p align=\"center\">\n",
    "  <img src=\"../images/vert_face.PNG\" alt=\"drawing\" width=\"300\" align=\"center\"/>\n",
    "</p>"
   ]
  },
  {
   "cell_type": "markdown",
   "id": "374f3a32-2cf2-4b15-aa32-6672308f96f5",
   "metadata": {},
   "source": [
    "We can create the 3D object (mesh) using the list of vertices and faces\n",
    "\n",
    "1.  create the mesh `obj_3d`, which contains the same number of elements as there are faces. What we are really interested in is the `obj_3d.vectors` attribute.  Each element of `obj_3d.vectors` contains 3 vectors, corresponding to the vertices that the triagnle needs to be drawn between."
   ]
  },
  {
   "cell_type": "code",
   "execution_count": 35,
   "id": "de11646b-09ea-4637-a2e8-957bb42b6504",
   "metadata": {},
   "outputs": [
    {
     "data": {
      "text/plain": [
       "(104480, 3)"
      ]
     },
     "execution_count": 35,
     "metadata": {},
     "output_type": "execute_result"
    }
   ],
   "source": [
    "faces.shape"
   ]
  },
  {
   "cell_type": "code",
   "execution_count": 36,
   "id": "30a6abca-ba5a-4a5d-abaf-f427ec6fa03f",
   "metadata": {},
   "outputs": [],
   "source": [
    "obj_3d = mesh.Mesh(np.zeros(faces.shape[0], dtype=mesh.Mesh.dtype))"
   ]
  },
  {
   "cell_type": "code",
   "execution_count": 37,
   "id": "a93ac775-2a53-475a-a54e-2fa4ee270b29",
   "metadata": {},
   "outputs": [
    {
     "data": {
      "text/plain": [
       "(104480, 3, 3)"
      ]
     },
     "execution_count": 37,
     "metadata": {},
     "output_type": "execute_result"
    }
   ],
   "source": [
    "obj_3d.vectors.shape"
   ]
  },
  {
   "cell_type": "markdown",
   "id": "3ab47917-2c1f-4de9-a659-d609e0a316bd",
   "metadata": {},
   "source": [
    "2. loop through all the faces, and append to `obj_3d.vectors`."
   ]
  },
  {
   "cell_type": "code",
   "execution_count": 38,
   "id": "75a84ad9-4dbf-4501-a48c-1fa1c209ff84",
   "metadata": {},
   "outputs": [
    {
     "data": {
      "text/plain": [
       "array([4, 1, 5])"
      ]
     },
     "execution_count": 38,
     "metadata": {},
     "output_type": "execute_result"
    }
   ],
   "source": [
    "faces[3]"
   ]
  },
  {
   "cell_type": "code",
   "execution_count": 39,
   "id": "988e96d4-ede0-4c12-a2c2-c5247cec1327",
   "metadata": {},
   "outputs": [
    {
     "data": {
      "text/plain": [
       "array([[0., 0., 0.],\n",
       "       [0., 0., 0.],\n",
       "       [0., 0., 0.]], dtype=float32)"
      ]
     },
     "execution_count": 39,
     "metadata": {},
     "output_type": "execute_result"
    }
   ],
   "source": [
    "obj_3d.vectors[0]"
   ]
  },
  {
   "cell_type": "code",
   "execution_count": 40,
   "id": "234fd355-8f7d-44bf-839d-83dcec2c661c",
   "metadata": {},
   "outputs": [
    {
     "data": {
      "text/plain": [
       "array([3, 0, 6])"
      ]
     },
     "execution_count": 40,
     "metadata": {},
     "output_type": "execute_result"
    }
   ],
   "source": [
    "faces[4]"
   ]
  },
  {
   "cell_type": "code",
   "execution_count": 41,
   "id": "a056de0a-4862-49e3-a899-e704ad7fd66e",
   "metadata": {},
   "outputs": [
    {
     "data": {
      "text/plain": [
       "array([[0.14141414, 0.91919192, 0.49494949],\n",
       "       [0.14141414, 0.92929293, 0.49242424],\n",
       "       [0.13131313, 0.92929293, 0.49494949]])"
      ]
     },
     "execution_count": 41,
     "metadata": {},
     "output_type": "execute_result"
    }
   ],
   "source": [
    "verts[faces[0]]"
   ]
  },
  {
   "cell_type": "code",
   "execution_count": 42,
   "id": "79b5079d-113c-421d-9681-a58882a6bf39",
   "metadata": {},
   "outputs": [],
   "source": [
    "for i, f in enumerate(faces):\n",
    "    obj_3d.vectors[i] = verts[f]"
   ]
  },
  {
   "cell_type": "code",
   "execution_count": 43,
   "id": "ef7408f7-c8d5-4b65-9b34-bdc003d9eac3",
   "metadata": {},
   "outputs": [
    {
     "data": {
      "text/plain": [
       "array([[0.13131313, 0.9292929 , 0.4949495 ],\n",
       "       [0.14141414, 0.9292929 , 0.49242425],\n",
       "       [0.13131313, 0.94949496, 0.4949495 ]], dtype=float32)"
      ]
     },
     "execution_count": 43,
     "metadata": {},
     "output_type": "execute_result"
    }
   ],
   "source": [
    "obj_3d.vectors[2]"
   ]
  },
  {
   "cell_type": "markdown",
   "id": "5dba45e6-80e4-4184-b869-9028a00df9cd",
   "metadata": {},
   "source": [
    "Then we can save the file really easily:"
   ]
  },
  {
   "cell_type": "code",
   "execution_count": 44,
   "id": "c22a07c3-6f9f-4f5e-9f60-a104c6758bac",
   "metadata": {},
   "outputs": [],
   "source": [
    "obj_3d.save('3D_file.stl')"
   ]
  },
  {
   "cell_type": "code",
   "execution_count": null,
   "id": "11a7e830-48c4-4276-a146-11f23b6b59d9",
   "metadata": {},
   "outputs": [],
   "source": []
  }
 ],
 "metadata": {
  "kernelspec": {
   "display_name": "Python 3 (ipykernel)",
   "language": "python",
   "name": "python3"
  },
  "language_info": {
   "codemirror_mode": {
    "name": "ipython",
    "version": 3
   },
   "file_extension": ".py",
   "mimetype": "text/x-python",
   "name": "python",
   "nbconvert_exporter": "python",
   "pygments_lexer": "ipython3",
   "version": "3.9.12"
  }
 },
 "nbformat": 4,
 "nbformat_minor": 5
}
