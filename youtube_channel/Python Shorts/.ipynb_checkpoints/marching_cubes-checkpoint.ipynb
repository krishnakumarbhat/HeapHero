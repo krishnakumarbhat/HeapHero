{
 "cells": [
  {
   "cell_type": "code",
   "execution_count": 1,
   "id": "b7293b46-003b-49b6-83b9-278d547a637f",
   "metadata": {},
   "outputs": [],
   "source": [
    "import numpy as np\n",
    "import matplotlib.pyplot as plt\n",
    "from skimage import measure\n",
    "from stl import mesh"
   ]
  },
  {
   "cell_type": "markdown",
   "id": "03d62592-1735-46c5-a658-116690b11e50",
   "metadata": {},
   "source": [
    "# Generating Own Mask"
   ]
  },
  {
   "cell_type": "markdown",
   "id": "6b2710f0-9bb4-4c52-bc4f-7ea5bfcd31b8",
   "metadata": {},
   "source": [
    "We are dealing with a 3D image. Consider the $z$ axis: for each slice along this access, consider the mask\n",
    "\n",
    "$$z \\leq  x^2 + y^2 \\leq 1.5z$$\n",
    "\n",
    "This mask is a ring, and these rings grow larger as $z$ grows larger. To make this mask, we can use 2D/3D meshgrids:"
   ]
  },
  {
   "cell_type": "code",
   "execution_count": 2,
   "id": "d44862b6-6bcc-4a0a-91ae-afdb860ebb1d",
   "metadata": {},
   "outputs": [],
   "source": [
    "x = y = np.linspace(-1,1,100)\n",
    "z = np.linspace(0,0.5,100)\n",
    "x2d, y2d = np.meshgrid(x,y, indexing='xy')\n",
    "x3d, y3d, z3d = np.meshgrid(x,y,z, indexing='xy')"
   ]
  },
  {
   "cell_type": "markdown",
   "id": "0443a6ae-9adc-4fad-ba53-ffe118533c44",
   "metadata": {},
   "source": [
    "Create the mask"
   ]
  },
  {
   "cell_type": "code",
   "execution_count": 3,
   "id": "ebd3a0ca-f411-4c9c-aa83-b0c2fabd72d3",
   "metadata": {},
   "outputs": [],
   "source": [
    "mask = (x3d**2 + y3d**2 >= z3d) * (x3d**2 + y3d**2 <= 1.5*z3d)"
   ]
  },
  {
   "cell_type": "code",
   "execution_count": 4,
   "id": "6f2e6b73-8e13-4233-8de1-992b84de9205",
   "metadata": {},
   "outputs": [
    {
     "data": {
      "text/plain": [
       "<matplotlib.collections.QuadMesh at 0x1c0930e6b80>"
      ]
     },
     "execution_count": 4,
     "metadata": {},
     "output_type": "execute_result"
    },
    {
     "data": {
      "image/png": "[encoded data removed]",
      "text/plain": [
       "<Figure size 360x360 with 1 Axes>"
      ]
     },
     "metadata": {
      "needs_background": "light"
     },
     "output_type": "display_data"
    }
   ],
   "source": [
    "plt.figure(figsize=(5,5))\n",
    "plt.pcolormesh(x2d, y2d, mask[:,:,8])"
   ]
  },
  {
   "cell_type": "code",
   "execution_count": 5,
   "id": "533fc37e-3ccf-4be8-9feb-e9ff572257eb",
   "metadata": {},
   "outputs": [],
   "source": [
    "verts, faces, normals, values = measure.marching_cubes(mask, 0)"
   ]
  },
  {
   "cell_type": "markdown",
   "id": "840bfc73-509a-4e87-ad05-46e6dd026284",
   "metadata": {},
   "source": [
    "The vertices are a list of points that exist on the object (these correspond to ($x$, $y$, $z$) coordinates)"
   ]
  },
  {
   "cell_type": "code",
   "execution_count": 6,
   "id": "f07c2d71-22be-40d2-a916-b3f1215e1b13",
   "metadata": {},
   "outputs": [
    {
     "data": {
      "text/plain": [
       "array([[ 6., 44., 99.],\n",
       "       [ 7., 44., 98.],\n",
       "       [ 7., 43., 99.],\n",
       "       ...,\n",
       "       [93., 53., 99.],\n",
       "       [93., 54., 99.],\n",
       "       [93., 55., 99.]], dtype=float32)"
      ]
     },
     "execution_count": 6,
     "metadata": {},
     "output_type": "execute_result"
    }
   ],
   "source": [
    "verts"
   ]
  },
  {
   "cell_type": "markdown",
   "id": "9fe6f94c-32fa-4f42-ad32-09dfdf8b8385",
   "metadata": {},
   "source": [
    "Each face in faces gives the index of three vertices. A triangle is drawn between these 3 vertices in an STL file (this is how 3D graphics are made)"
   ]
  },
  {
   "cell_type": "code",
   "execution_count": 7,
   "id": "770d93e8-1d27-494c-a535-b69a34064e33",
   "metadata": {},
   "outputs": [
    {
     "data": {
      "text/plain": [
       "array([[    2,     1,     0],\n",
       "       [    0,     1,     3],\n",
       "       [    3,     1,     4],\n",
       "       ...,\n",
       "       [50963, 50928, 50962],\n",
       "       [50962, 50928, 50923],\n",
       "       [50963, 50932, 50928]])"
      ]
     },
     "execution_count": 7,
     "metadata": {},
     "output_type": "execute_result"
    }
   ],
   "source": [
    "faces"
   ]
  },
  {
   "cell_type": "markdown",
   "id": "374f3a32-2cf2-4b15-aa32-6672308f96f5",
   "metadata": {},
   "source": [
    "We can create the 3D object (mesh) using the list of vertices and faces\n",
    "\n",
    "1.  create the mesh `obj_3d`, which contains the same number of elements as there are faces. What we are really interested in is the `obj_3d.vectors` attribute.  Each element of `obj_3d.vectors` contains 3 vectors, corresponding to the vertices that the triagnle needs to be drawn between."
   ]
  },
  {
   "cell_type": "code",
   "execution_count": 8,
   "id": "30a6abca-ba5a-4a5d-abaf-f427ec6fa03f",
   "metadata": {},
   "outputs": [],
   "source": [
    "obj_3d = mesh.Mesh(np.zeros(faces.shape[0], dtype=mesh.Mesh.dtype))"
   ]
  },
  {
   "cell_type": "code",
   "execution_count": 9,
   "id": "146ddcbd-238a-43bd-bd1b-965b59f9b1c5",
   "metadata": {},
   "outputs": [
    {
     "data": {
      "text/plain": [
       "(101360, 3, 3)"
      ]
     },
     "execution_count": 9,
     "metadata": {},
     "output_type": "execute_result"
    }
   ],
   "source": [
    "obj_3d.vectors.shape"
   ]
  },
  {
   "cell_type": "markdown",
   "id": "3ab47917-2c1f-4de9-a659-d609e0a316bd",
   "metadata": {},
   "source": [
    "2. loop through all the faces, and append to `obj_3d.vectors`."
   ]
  },
  {
   "cell_type": "code",
   "execution_count": 10,
   "id": "79b5079d-113c-421d-9681-a58882a6bf39",
   "metadata": {},
   "outputs": [],
   "source": [
    "for i, f in enumerate(faces):\n",
    "    obj_3d.vectors[i] = verts[f]"
   ]
  },
  {
   "cell_type": "markdown",
   "id": "5dba45e6-80e4-4184-b869-9028a00df9cd",
   "metadata": {},
   "source": [
    "Then we can save the file really easily:"
   ]
  },
  {
   "cell_type": "code",
   "execution_count": 11,
   "id": "c22a07c3-6f9f-4f5e-9f60-a104c6758bac",
   "metadata": {},
   "outputs": [],
   "source": [
    "obj_3d.save('3D_file.stl')"
   ]
  }
 ],
 "metadata": {
  "kernelspec": {
   "display_name": "Python 3 (ipykernel)",
   "language": "python",
   "name": "python3"
  },
  "language_info": {
   "codemirror_mode": {
    "name": "ipython",
    "version": 3
   },
   "file_extension": ".py",
   "mimetype": "text/x-python",
   "name": "python",
   "nbconvert_exporter": "python",
   "pygments_lexer": "ipython3",
   "version": "3.9.12"
  }
 },
 "nbformat": 4,
 "nbformat_minor": 5
}
