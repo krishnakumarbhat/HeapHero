{
 "cells": [
  {
   "cell_type": "markdown",
   "metadata": {},
   "source": [
    "# Shorts 1: Integrate"
   ]
  },
  {
   "cell_type": "markdown",
   "metadata": {},
   "source": [
    "# Shorts 1"
   ]
  },
  {
   "cell_type": "code",
   "execution_count": 1,
   "metadata": {},
   "outputs": [],
   "source": [
    "import numpy as np\n",
    "from scipy.integrate import quad"
   ]
  },
  {
   "cell_type": "markdown",
   "metadata": {},
   "source": [
    "Find $\\int_0^2 f(x)dx$ where the integrand is $f(x) = x^3 e^x \\sin^5(10x)$"
   ]
  },
  {
   "cell_type": "markdown",
   "metadata": {},
   "source": [
    "* Step 1: Define integrand function "
   ]
  },
  {
   "cell_type": "code",
   "execution_count": 8,
   "metadata": {},
   "outputs": [],
   "source": [
    "def f(x):\n",
    "    return x**3 * np.exp(x) * np.sin(10*x)**5"
   ]
  },
  {
   "cell_type": "code",
   "execution_count": 6,
   "metadata": {},
   "outputs": [
    {
     "data": {
      "text/plain": [
       "37.48889324721368"
      ]
     },
     "execution_count": 6,
     "metadata": {},
     "output_type": "execute_result"
    }
   ],
   "source": [
    "f(2)"
   ]
  },
  {
   "cell_type": "code",
   "execution_count": null,
   "metadata": {},
   "outputs": [],
   "source": []
  },
  {
   "cell_type": "markdown",
   "metadata": {},
   "source": [
    "* Step 2: Integrate by feeding in integrand and bounds"
   ]
  },
  {
   "cell_type": "code",
   "execution_count": 9,
   "metadata": {},
   "outputs": [
    {
     "data": {
      "text/plain": [
       "(-1.2521724594910386, 3.7275508492477804e-10)"
      ]
     },
     "execution_count": 9,
     "metadata": {},
     "output_type": "execute_result"
    }
   ],
   "source": [
    "quad(f, 0, 2)"
   ]
  },
  {
   "cell_type": "markdown",
   "metadata": {},
   "source": [
    "# Shorts 2"
   ]
  },
  {
   "cell_type": "code",
   "execution_count": 11,
   "metadata": {},
   "outputs": [],
   "source": [
    "N = 10\n",
    "avg =  2.56313234"
   ]
  },
  {
   "cell_type": "code",
   "execution_count": 15,
   "metadata": {},
   "outputs": [
    {
     "data": {
      "text/plain": [
       "'The mean weight of the 10 rats was 2.56313234kg'"
      ]
     },
     "execution_count": 15,
     "metadata": {},
     "output_type": "execute_result"
    }
   ],
   "source": [
    "x = 'The mean weight of the ' + str(N) + ' rats was ' + str(avg) + 'kg'\n",
    "x"
   ]
  },
  {
   "cell_type": "markdown",
   "metadata": {},
   "source": [
    "Method 1 (edit the cell each time. dont make new cells)"
   ]
  },
  {
   "cell_type": "code",
   "execution_count": 16,
   "metadata": {},
   "outputs": [
    {
     "data": {
      "text/plain": [
       "'The mean weight of the 10 rats was 2.56313234kg'"
      ]
     },
     "execution_count": 16,
     "metadata": {},
     "output_type": "execute_result"
    }
   ],
   "source": [
    "x = f'The mean weight of the {N} rats was {avg}kg'\n",
    "x"
   ]
  },
  {
   "cell_type": "code",
   "execution_count": 17,
   "metadata": {},
   "outputs": [
    {
     "data": {
      "text/plain": [
       "'The mean weight of the 10 rats was 2.56kg'"
      ]
     },
     "execution_count": 17,
     "metadata": {},
     "output_type": "execute_result"
    }
   ],
   "source": [
    "x = f'The mean weight of the {N} rats was {avg:.2f}kg'\n",
    "x"
   ]
  },
  {
   "cell_type": "code",
   "execution_count": 20,
   "metadata": {},
   "outputs": [
    {
     "data": {
      "text/plain": [
       "'The mean weight of the 10 rats was 2563.13g'"
      ]
     },
     "execution_count": 20,
     "metadata": {},
     "output_type": "execute_result"
    }
   ],
   "source": [
    "x = f'The mean weight of the {N} rats was {avg*1000:.2f}g'\n",
    "x"
   ]
  },
  {
   "cell_type": "code",
   "execution_count": 22,
   "metadata": {},
   "outputs": [
    {
     "data": {
      "text/plain": [
       "'The mean weight of the 10 rats was 2.56e+03g'"
      ]
     },
     "execution_count": 22,
     "metadata": {},
     "output_type": "execute_result"
    }
   ],
   "source": [
    "x = f'The mean weight of the {N} rats was {avg*1000:.2e}g'\n",
    "x"
   ]
  },
  {
   "cell_type": "code",
   "execution_count": 24,
   "metadata": {},
   "outputs": [
    {
     "data": {
      "text/plain": [
       "'The mean weight of the 10 rats was 2.6e+03g'"
      ]
     },
     "execution_count": 24,
     "metadata": {},
     "output_type": "execute_result"
    }
   ],
   "source": [
    "x = f'The mean weight of the {N} rats was {avg*1000:.2g}g'\n",
    "x"
   ]
  },
  {
   "cell_type": "code",
   "execution_count": 25,
   "metadata": {},
   "outputs": [],
   "source": [
    "N = 40000000"
   ]
  },
  {
   "cell_type": "code",
   "execution_count": 28,
   "metadata": {},
   "outputs": [
    {
     "data": {
      "text/plain": [
       "'The mean weight of the 40,000,000 rats was 2.6e+03g'"
      ]
     },
     "execution_count": 28,
     "metadata": {},
     "output_type": "execute_result"
    }
   ],
   "source": [
    "x = f'The mean weight of the {N} rats was {avg:.2f}kg'\n",
    "x"
   ]
  },
  {
   "cell_type": "markdown",
   "metadata": {},
   "source": [
    "# Shorts 3"
   ]
  },
  {
   "cell_type": "code",
   "execution_count": 86,
   "metadata": {},
   "outputs": [],
   "source": [
    "import numpy as np\n",
    "from scipy.misc import derivative\n",
    "import sympy as smp"
   ]
  },
  {
   "cell_type": "markdown",
   "metadata": {},
   "source": [
    "2 ways to take derivative of function\n",
    "\n",
    "$f(x) = \\frac{\\sin(x) e^{-\\cos(x)} x^5}{\\sin(10x^2) + 4}$"
   ]
  },
  {
   "cell_type": "markdown",
   "metadata": {},
   "source": [
    "1. Numerical (finite difference)"
   ]
  },
  {
   "cell_type": "code",
   "execution_count": 87,
   "metadata": {},
   "outputs": [],
   "source": [
    "def f(x):\n",
    "    return np.sin(x) * np.exp(-np.cos(x)) * x**5 \\\n",
    "           / (np.sin(10*x**2) + 4)"
   ]
  },
  {
   "cell_type": "code",
   "execution_count": 88,
   "metadata": {},
   "outputs": [
    {
     "data": {
      "text/plain": [
       "18.857298495444194"
      ]
     },
     "execution_count": 88,
     "metadata": {},
     "output_type": "execute_result"
    }
   ],
   "source": [
    "f(3)"
   ]
  },
  {
   "cell_type": "code",
   "execution_count": 90,
   "metadata": {},
   "outputs": [
    {
     "data": {
      "text/plain": [
       "5.390926693493725"
      ]
     },
     "execution_count": 90,
     "metadata": {},
     "output_type": "execute_result"
    }
   ],
   "source": [
    "derivative(f,3, dx=1e-6)"
   ]
  },
  {
   "cell_type": "code",
   "execution_count": 92,
   "metadata": {},
   "outputs": [
    {
     "data": {
      "text/plain": [
       "array([   79.70951683, -7010.79814158,  6114.95006501])"
      ]
     },
     "execution_count": 92,
     "metadata": {},
     "output_type": "execute_result"
    }
   ],
   "source": [
    "derivative(f, np.array([2,4,5]), dx=1e-6)"
   ]
  },
  {
   "cell_type": "markdown",
   "metadata": {},
   "source": [
    "* 2. Symbolic"
   ]
  },
  {
   "cell_type": "code",
   "execution_count": 93,
   "metadata": {},
   "outputs": [],
   "source": [
    "x = smp.symbols('x')\n",
    "f = smp.sin(x) * smp.exp(-smp.cos(x)) * x**5 \\\n",
    "           / (smp.sin(10*x**2) + 4)"
   ]
  },
  {
   "cell_type": "code",
   "execution_count": 94,
   "metadata": {},
   "outputs": [
    {
     "data": {
      "text/latex": [
       "$\\displaystyle - \\frac{20 x^{6} e^{- \\cos{\\left(x \\right)}} \\sin{\\left(x \\right)} \\cos{\\left(10 x^{2} \\right)}}{\\left(\\sin{\\left(10 x^{2} \\right)} + 4\\right)^{2}} + \\frac{x^{5} e^{- \\cos{\\left(x \\right)}} \\sin^{2}{\\left(x \\right)}}{\\sin{\\left(10 x^{2} \\right)} + 4} + \\frac{x^{5} e^{- \\cos{\\left(x \\right)}} \\cos{\\left(x \\right)}}{\\sin{\\left(10 x^{2} \\right)} + 4} + \\frac{5 x^{4} e^{- \\cos{\\left(x \\right)}} \\sin{\\left(x \\right)}}{\\sin{\\left(10 x^{2} \\right)} + 4}$"
      ],
      "text/plain": [
       "-20*x**6*exp(-cos(x))*sin(x)*cos(10*x**2)/(sin(10*x**2) + 4)**2 + x**5*exp(-cos(x))*sin(x)**2/(sin(10*x**2) + 4) + x**5*exp(-cos(x))*cos(x)/(sin(10*x**2) + 4) + 5*x**4*exp(-cos(x))*sin(x)/(sin(10*x**2) + 4)"
      ]
     },
     "execution_count": 94,
     "metadata": {},
     "output_type": "execute_result"
    }
   ],
   "source": [
    "smp.diff(f,x)"
   ]
  },
  {
   "cell_type": "code",
   "execution_count": 95,
   "metadata": {},
   "outputs": [
    {
     "data": {
      "text/latex": [
       "$\\displaystyle \\frac{x^{4} \\left(- 20 x^{2} \\sin{\\left(x \\right)} \\cos{\\left(10 x^{2} \\right)} + \\left(\\sin{\\left(10 x^{2} \\right)} + 4\\right) \\left(x \\sin^{2}{\\left(x \\right)} + x \\cos{\\left(x \\right)} + 5 \\sin{\\left(x \\right)}\\right)\\right) e^{- \\cos{\\left(x \\right)}}}{\\left(\\sin{\\left(10 x^{2} \\right)} + 4\\right)^{2}}$"
      ],
      "text/plain": [
       "x**4*(-20*x**2*sin(x)*cos(10*x**2) + (sin(10*x**2) + 4)*(x*sin(x)**2 + x*cos(x) + 5*sin(x)))*exp(-cos(x))/(sin(10*x**2) + 4)**2"
      ]
     },
     "execution_count": 95,
     "metadata": {},
     "output_type": "execute_result"
    }
   ],
   "source": [
    "dfdx = smp.diff(f,x).simplify()\n",
    "dfdx"
   ]
  },
  {
   "cell_type": "code",
   "execution_count": 96,
   "metadata": {},
   "outputs": [],
   "source": [
    "dfdx_numerical = smp.lambdify(x, dfdx)"
   ]
  },
  {
   "cell_type": "code",
   "execution_count": 97,
   "metadata": {},
   "outputs": [
    {
     "data": {
      "text/plain": [
       "5.390926709967592"
      ]
     },
     "execution_count": 97,
     "metadata": {},
     "output_type": "execute_result"
    }
   ],
   "source": [
    "dfdx_numerical(3)"
   ]
  },
  {
   "cell_type": "code",
   "execution_count": null,
   "metadata": {},
   "outputs": [],
   "source": []
  }
 ],
 "metadata": {
  "kernelspec": {
   "display_name": "Python 3.9.12 ('base')",
   "language": "python",
   "name": "python3"
  },
  "language_info": {
   "codemirror_mode": {
    "name": "ipython",
    "version": 3
   },
   "file_extension": ".py",
   "mimetype": "text/x-python",
   "name": "python",
   "nbconvert_exporter": "python",
   "pygments_lexer": "ipython3",
   "version": "3.9.12"
  },
  "orig_nbformat": 4,
  "vscode": {
   "interpreter": {
    "hash": "2846b3206ff6b49e26439e2fc99fe7d76b05b7b3661f5d4e5fd9ab0fe8491f4b"
   }
  }
 },
 "nbformat": 4,
 "nbformat_minor": 2
}
