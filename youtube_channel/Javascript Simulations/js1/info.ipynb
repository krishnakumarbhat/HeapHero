{
 "cells": [
  {
   "cell_type": "markdown",
   "metadata": {},
   "source": [
    "# The Wave Equation"
   ]
  },
  {
   "cell_type": "markdown",
   "metadata": {},
   "source": [
    "The TRUE wave equation (with damping and stress-strain coupling):\n",
    "\n",
    "$$\\frac{\\partial^2 y}{\\partial x^2} - \\frac{1}{c^2}\\frac{\\partial^2 y}{\\partial t^2} - \\gamma \\frac{\\partial y}{\\partial t} -l^2 \\frac{\\partial^4 y}{\\partial x^4} = 0 $$\n",
    "\n",
    "$$ y(0, t) = y(L, t) = 0 $$\n",
    "$$ y(x, 0) = f(x) $$\n",
    "\n",
    "$y$ is the amplitude of the string, $x$ is the location of the string, and $t$ is time.\n",
    "\n",
    "Parameters:\n",
    "\n",
    "* $c$: speed of the wave $[m/s]$\n",
    "* $\\gamma$: damping constant $[s/m]$\n",
    "* $l$: characteristic length (stiffness term) [dimensionless]\n",
    "\n",
    "Discrete form:\n",
    "\n",
    "$$\\frac{y_{j+1}^{m} -2y_j^m + y_{j-1}^{m}}{\\Delta x^2} - \\frac{1}{c^2}\\frac{y_j^{m+1} -2y_j^m + y_j^{m-1}}{\\Delta t^2} - \\gamma \\frac{y_j^{m+1} - y_j^{m-1}}{2 \\Delta t} - l^2 \\frac{y_{j-2}^m -4y_{j-1}^m +6y_{j}^m -4y_{j+1}^m +y_{j+2}^m}{\\Delta x^4} =0 $$ \n",
    "\n",
    "Solve for $y_j^{m+1}$ (the amplitude of the string at the next time):\n",
    "\n",
    "\\begin{align*}\n",
    "y_j^{m+1} &= \\left[\\frac{1}{c^2 \\Delta t^2} + \\frac{\\gamma}{2 \\Delta t} \\right]^{-1}\\\\\n",
    "& \\hspace{10mm} \\cdot \\left[\\frac{1}{\\Delta x^2} \\left( y_{j+1}^{m} -2y_j^m + y_{j-1}^{m} \\right) -\\frac{1}{c^2 \\Delta t^2} \\left( y_j^{m-1} - 2y_j^m \\right) + \\frac{\\gamma}{2 \\Delta t}y_j^{m-1} -\\frac{l^2}{\\Delta x^4} \\left( y_{j-2}^m -4y_{j-1}^m +6y_{j}^m -4y_{j+1}^m +y_{j+2}^m \\right) \\right]\n",
    "\\end{align*}\n",
    "\n",
    "In order for this to be stable, need $c \\Delta t/\\Delta x < 1$"
   ]
  },
  {
   "cell_type": "markdown",
   "metadata": {},
   "source": [
    "# Converting From Canvas To String Coordinates"
   ]
  },
  {
   "cell_type": "markdown",
   "metadata": {},
   "source": [
    "Since the string goes between 0 and 1 in \"String Coordinates\" $(x_s, y_s)$ we can scale to the window \"canvas coordinates\" $(x_c, y_c)$ as follows:\n",
    "\n",
    "$$x_c = C_w \\cdot x_s $$\n",
    "$$y_c = C_w \\cdot y_s + C_h / 2 $$\n",
    "\n",
    "where $C_w$ and $C_h$ are the width and height of the canvas in pixels"
   ]
  }
 ],
 "metadata": {
  "kernelspec": {
   "display_name": "Python 3.10.8 64-bit (microsoft store)",
   "language": "python",
   "name": "python3"
  },
  "language_info": {
   "name": "python",
   "version": "3.10.8"
  },
  "orig_nbformat": 4,
  "vscode": {
   "interpreter": {
    "hash": "a4645a6e9dc82d72f8c7ded2639a2045ce5b1a25059c8e86a27423a2059a2806"
   }
  }
 },
 "nbformat": 4,
 "nbformat_minor": 2
}
