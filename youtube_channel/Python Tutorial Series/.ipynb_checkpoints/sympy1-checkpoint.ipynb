{
 "cells": [
  {
   "cell_type": "code",
   "execution_count": 2,
   "metadata": {},
   "outputs": [],
   "source": [
    "import sympy as smp\n",
    "import numpy as np\n",
    "import matplotlib.pyplot as plt"
   ]
  },
  {
   "cell_type": "markdown",
   "metadata": {},
   "source": [
    "# Introduction"
   ]
  },
  {
   "cell_type": "markdown",
   "metadata": {},
   "source": [
    "Symbols can be defined as follows:"
   ]
  },
  {
   "cell_type": "code",
   "execution_count": 26,
   "metadata": {},
   "outputs": [],
   "source": [
    "x = smp.symbols('x')"
   ]
  },
  {
   "cell_type": "markdown",
   "metadata": {},
   "source": [
    "You can then use various mathematical operators on the defined symbols"
   ]
  },
  {
   "cell_type": "code",
   "execution_count": 27,
   "metadata": {},
   "outputs": [
    {
     "data": {
      "text/latex": [
       "$\\displaystyle x^{2}$"
      ],
      "text/plain": [
       "x**2"
      ]
     },
     "execution_count": 27,
     "metadata": {},
     "output_type": "execute_result"
    }
   ],
   "source": [
    "x**2"
   ]
  },
  {
   "cell_type": "code",
   "execution_count": 28,
   "metadata": {},
   "outputs": [
    {
     "data": {
      "text/latex": [
       "$\\displaystyle \\sin{\\left(x \\right)}$"
      ],
      "text/plain": [
       "sin(x)"
      ]
     },
     "execution_count": 28,
     "metadata": {},
     "output_type": "execute_result"
    }
   ],
   "source": [
    "smp.sin(x) "
   ]
  },
  {
   "cell_type": "markdown",
   "metadata": {},
   "source": [
    "There are many many functions built into sympy"
   ]
  },
  {
   "cell_type": "code",
   "execution_count": 29,
   "metadata": {},
   "outputs": [],
   "source": [
    "#smp. #press tab to autocomplete and see all functions"
   ]
  },
  {
   "cell_type": "markdown",
   "metadata": {},
   "source": [
    "Can save expressions in new variables"
   ]
  },
  {
   "cell_type": "code",
   "execution_count": 30,
   "metadata": {},
   "outputs": [
    {
     "data": {
      "text/latex": [
       "$\\displaystyle x^{2} + 4 x + 3$"
      ],
      "text/plain": [
       "x**2 + 4*x + 3"
      ]
     },
     "execution_count": 30,
     "metadata": {},
     "output_type": "execute_result"
    }
   ],
   "source": [
    "y = x**2 + 4*x + 3\n",
    "y"
   ]
  },
  {
   "cell_type": "markdown",
   "metadata": {},
   "source": [
    "Do operations on the new variables:"
   ]
  },
  {
   "cell_type": "code",
   "execution_count": 31,
   "metadata": {},
   "outputs": [
    {
     "data": {
      "text/latex": [
       "$\\displaystyle \\left(x^{2} + 4 x + 3\\right)^{2}$"
      ],
      "text/plain": [
       "(x**2 + 4*x + 3)**2"
      ]
     },
     "execution_count": 31,
     "metadata": {},
     "output_type": "execute_result"
    }
   ],
   "source": [
    "z = y**2\n",
    "z"
   ]
  },
  {
   "cell_type": "markdown",
   "metadata": {},
   "source": [
    "Note that it doesn't expand. There are different methods you need to call to do different things with the expression:"
   ]
  },
  {
   "cell_type": "code",
   "execution_count": 32,
   "metadata": {},
   "outputs": [
    {
     "data": {
      "text/latex": [
       "$\\displaystyle \\left(x + 1\\right)^{2} \\left(x + 3\\right)^{2}$"
      ],
      "text/plain": [
       "(x + 1)**2*(x + 3)**2"
      ]
     },
     "execution_count": 32,
     "metadata": {},
     "output_type": "execute_result"
    }
   ],
   "source": [
    "z.factor()"
   ]
  },
  {
   "cell_type": "code",
   "execution_count": 33,
   "metadata": {},
   "outputs": [
    {
     "data": {
      "text/latex": [
       "$\\displaystyle x^{4} + 8 x^{3} + 22 x^{2} + 24 x + 9$"
      ],
      "text/plain": [
       "x**4 + 8*x**3 + 22*x**2 + 24*x + 9"
      ]
     },
     "execution_count": 33,
     "metadata": {},
     "output_type": "execute_result"
    }
   ],
   "source": [
    "z.expand()"
   ]
  },
  {
   "cell_type": "markdown",
   "metadata": {},
   "source": [
    "In the notation `smp.solve(f,x)`, sympy finds the value of $x$ that makes $f(x)=0$. "
   ]
  },
  {
   "cell_type": "code",
   "execution_count": 34,
   "metadata": {},
   "outputs": [
    {
     "data": {
      "text/plain": [
       "[-3, -1]"
      ]
     },
     "execution_count": 34,
     "metadata": {},
     "output_type": "execute_result"
    }
   ],
   "source": [
    "smp.solve(z,x)"
   ]
  },
  {
   "cell_type": "code",
   "execution_count": 35,
   "metadata": {},
   "outputs": [
    {
     "data": {
      "text/plain": [
       "[0, pi]"
      ]
     },
     "execution_count": 35,
     "metadata": {},
     "output_type": "execute_result"
    }
   ],
   "source": [
    "smp.solve(smp.sin(x), x)"
   ]
  },
  {
   "cell_type": "markdown",
   "metadata": {},
   "source": [
    "**Good Practice**: If you know that your variable $x$ is real (and in some cases non-negative) it's good to specify this when you define your variables to prevent complicated issues when solving complicated problems (especially with integrals)."
   ]
  },
  {
   "cell_type": "code",
   "execution_count": 36,
   "metadata": {},
   "outputs": [
    {
     "data": {
      "text/plain": [
       "[-I, I]"
      ]
     },
     "execution_count": 36,
     "metadata": {},
     "output_type": "execute_result"
    }
   ],
   "source": [
    "x = smp.symbols('x')\n",
    "smp.solve(x**2+1, x)"
   ]
  },
  {
   "cell_type": "code",
   "execution_count": 37,
   "metadata": {},
   "outputs": [
    {
     "data": {
      "text/plain": [
       "[]"
      ]
     },
     "execution_count": 37,
     "metadata": {},
     "output_type": "execute_result"
    }
   ],
   "source": [
    "x = smp.symbols('x', real=True)\n",
    "smp.solve(x**2+1, x)"
   ]
  },
  {
   "cell_type": "markdown",
   "metadata": {},
   "source": [
    "Can define many variables at once"
   ]
  },
  {
   "cell_type": "code",
   "execution_count": 38,
   "metadata": {},
   "outputs": [
    {
     "data": {
      "text/latex": [
       "$\\displaystyle x^{2} + y \\sin{\\left(z \\right)}$"
      ],
      "text/plain": [
       "x**2 + y*sin(z)"
      ]
     },
     "execution_count": 38,
     "metadata": {},
     "output_type": "execute_result"
    }
   ],
   "source": [
    "x, y, z = smp.symbols('x y z')\n",
    "F = x**2+smp.sin(z)*y\n",
    "F"
   ]
  },
  {
   "cell_type": "markdown",
   "metadata": {},
   "source": [
    "Can also solve multivariable expressions, specifying which variable we want to solve for. In each case, $F=0$ is being solved for"
   ]
  },
  {
   "cell_type": "code",
   "execution_count": 39,
   "metadata": {},
   "outputs": [
    {
     "data": {
      "text/plain": [
       "[-sqrt(-y*sin(z)), sqrt(-y*sin(z))]"
      ]
     },
     "execution_count": 39,
     "metadata": {},
     "output_type": "execute_result"
    }
   ],
   "source": [
    "x_sols = smp.solve(F, x)\n",
    "x_sols"
   ]
  },
  {
   "cell_type": "code",
   "execution_count": 40,
   "metadata": {},
   "outputs": [
    {
     "data": {
      "text/plain": [
       "[-x**2/sin(z)]"
      ]
     },
     "execution_count": 40,
     "metadata": {},
     "output_type": "execute_result"
    }
   ],
   "source": [
    "y_sols = smp.solve(F,y)\n",
    "y_sols"
   ]
  },
  {
   "cell_type": "code",
   "execution_count": 41,
   "metadata": {},
   "outputs": [
    {
     "data": {
      "text/plain": [
       "[asin(x**2/y) + pi, -asin(x**2/y)]"
      ]
     },
     "execution_count": 41,
     "metadata": {},
     "output_type": "execute_result"
    }
   ],
   "source": [
    "z_sols = smp.solve(F,z)\n",
    "z_sols"
   ]
  },
  {
   "cell_type": "markdown",
   "metadata": {},
   "source": [
    "Finally, it may be the case that one has a sympy expression but wants to convert it into a numerical function so they can plot on a computer"
   ]
  },
  {
   "cell_type": "code",
   "execution_count": 132,
   "metadata": {},
   "outputs": [
    {
     "data": {
      "text/latex": [
       "$\\displaystyle \\operatorname{asin}{\\left(\\frac{x^{2}}{y} \\right)} + \\pi$"
      ],
      "text/plain": [
       "asin(x**2/y) + pi"
      ]
     },
     "execution_count": 132,
     "metadata": {},
     "output_type": "execute_result"
    }
   ],
   "source": [
    "expr = z_sols[0]\n",
    "expr"
   ]
  },
  {
   "cell_type": "code",
   "execution_count": 133,
   "metadata": {},
   "outputs": [
    {
     "data": {
      "text/plain": [
       "3.6651914291880923"
      ]
     },
     "execution_count": 133,
     "metadata": {},
     "output_type": "execute_result"
    }
   ],
   "source": [
    "expr_f = smp.lambdify([x,y], expr)\n",
    "expr_f(1,2)"
   ]
  },
  {
   "cell_type": "code",
   "execution_count": 134,
   "metadata": {},
   "outputs": [
    {
     "data": {
      "image/png": "[encoded data removed]",
      "text/plain": [
       "<Figure size 432x288 with 1 Axes>"
      ]
     },
     "metadata": {
      "needs_background": "light"
     },
     "output_type": "display_data"
    }
   ],
   "source": [
    "x_num = np.linspace(0,1,100)\n",
    "y_num = 2\n",
    "plt.plot(x_num, expr_f(x_num,y_num))\n",
    "plt.show()"
   ]
  },
  {
   "cell_type": "markdown",
   "metadata": {},
   "source": [
    "For multivariable expressions, can also substitute values in"
   ]
  },
  {
   "cell_type": "code",
   "execution_count": 46,
   "metadata": {},
   "outputs": [
    {
     "data": {
      "text/latex": [
       "$\\displaystyle x^{2} + y \\sin{\\left(z \\right)}$"
      ],
      "text/plain": [
       "x**2 + y*sin(z)"
      ]
     },
     "execution_count": 46,
     "metadata": {},
     "output_type": "execute_result"
    }
   ],
   "source": [
    "F"
   ]
  },
  {
   "cell_type": "code",
   "execution_count": 47,
   "metadata": {},
   "outputs": [
    {
     "data": {
      "text/latex": [
       "$\\displaystyle x^{2} + 3$"
      ],
      "text/plain": [
       "x**2 + 3"
      ]
     },
     "execution_count": 47,
     "metadata": {},
     "output_type": "execute_result"
    }
   ],
   "source": [
    "F.subs([(y,3),(z,smp.pi/2)])"
   ]
  },
  {
   "cell_type": "markdown",
   "metadata": {},
   "source": [
    "# Examples"
   ]
  },
  {
   "cell_type": "markdown",
   "metadata": {},
   "source": [
    "A falling object encounters a moving platform accelerating upwards:\n",
    "\n",
    "1. Object $h_o(t) = h_0 - v_o t - \\frac{1}{2}gt^2$\n",
    "2. Platform $h_p(t) = v_p t + \\frac{1}{2}qt^2$\n",
    "\n",
    "**Find the initial velocity $v_0$ such that when the object and platform collide, they are moving at the same speed.**\n",
    "\n",
    "We need to solve for $v_0$ and $t$ in the two equations\n",
    "\n",
    "1. $h_0(t) = h_p(t)$\n",
    "2. $ \\frac{dh_0}{dt} (t) = - \\frac{dh_p}{dt}(t) $\n",
    "\n",
    "In sympy, need to construct our system of equations as $EQ_1=0$, $EQ_2=0$, ... In our case, we rewrite them as\n",
    "\n",
    "1. $h_0(t) - h_p(t) = 0$\n",
    "2. $\\frac{dh_0}{dt} + \\frac{dh_p}{dt} = 0$"
   ]
  },
  {
   "cell_type": "code",
   "execution_count": 56,
   "metadata": {},
   "outputs": [],
   "source": [
    "t, h0, v0, g, vp, q = smp.symbols('t h_0 v_0 g v_p q', real=True, positive=True)"
   ]
  },
  {
   "cell_type": "markdown",
   "metadata": {},
   "source": [
    "Define expressions"
   ]
  },
  {
   "cell_type": "code",
   "execution_count": 67,
   "metadata": {},
   "outputs": [],
   "source": [
    "h0t = h0 - v0*t - smp.Rational(1,2)*g*t**2\n",
    "dh0dt = g*t - v0\n",
    "hpt = vp*t + smp.Rational(1,2)*q*t**2\n",
    "dhpdt = vp + q*t"
   ]
  },
  {
   "cell_type": "markdown",
   "metadata": {},
   "source": [
    "Define equations"
   ]
  },
  {
   "cell_type": "code",
   "execution_count": 68,
   "metadata": {},
   "outputs": [],
   "source": [
    "eq1 = h0t - hpt\n",
    "eq2 = dh0dt + dhpdt"
   ]
  },
  {
   "cell_type": "markdown",
   "metadata": {},
   "source": [
    "Solve the equations"
   ]
  },
  {
   "cell_type": "code",
   "execution_count": 76,
   "metadata": {},
   "outputs": [],
   "source": [
    "t_collide, v_initfall = smp.solve([eq1, eq2], [t, v0])[0]"
   ]
  },
  {
   "cell_type": "code",
   "execution_count": 167,
   "metadata": {},
   "outputs": [
    {
     "data": {
      "text/latex": [
       "$\\displaystyle \\frac{v_{p}}{3} + \\frac{\\sqrt{2} \\sqrt{3 g h_{0} + 3 h_{0} q + 2 v_{p}^{2}}}{3}$"
      ],
      "text/plain": [
       "v_p/3 + sqrt(2)*sqrt(3*g*h_0 + 3*h_0*q + 2*v_p**2)/3"
      ]
     },
     "execution_count": 167,
     "metadata": {},
     "output_type": "execute_result"
    }
   ],
   "source": [
    "v_initfall"
   ]
  },
  {
   "cell_type": "markdown",
   "metadata": {},
   "source": [
    "**What is the velocity when they collide?**"
   ]
  },
  {
   "cell_type": "code",
   "execution_count": 83,
   "metadata": {},
   "outputs": [
    {
     "data": {
      "text/latex": [
       "$\\displaystyle - \\frac{g v_{p} + \\frac{q v_{p}}{3} + \\frac{q \\sqrt{6 g h_{0} + 6 h_{0} q + 4 v_{p}^{2}}}{3}}{g + q}$"
      ],
      "text/plain": [
       "-(g*v_p + q*v_p/3 + q*sqrt(6*g*h_0 + 6*h_0*q + 4*v_p**2)/3)/(g + q)"
      ]
     },
     "execution_count": 83,
     "metadata": {},
     "output_type": "execute_result"
    }
   ],
   "source": [
    "dh0dt.subs([(t,t_collide),(v0,v_initfall)]).simplify()"
   ]
  },
  {
   "cell_type": "code",
   "execution_count": 84,
   "metadata": {},
   "outputs": [
    {
     "data": {
      "text/latex": [
       "$\\displaystyle \\frac{g v_{p} + \\frac{q v_{p}}{3} + \\frac{q \\sqrt{6 g h_{0} + 6 h_{0} q + 4 v_{p}^{2}}}{3}}{g + q}$"
      ],
      "text/plain": [
       "(g*v_p + q*v_p/3 + q*sqrt(6*g*h_0 + 6*h_0*q + 4*v_p**2)/3)/(g + q)"
      ]
     },
     "execution_count": 84,
     "metadata": {},
     "output_type": "execute_result"
    }
   ],
   "source": [
    "dhpdt.subs([(t,t_collide),(v0,v_initfall)]).simplify()"
   ]
  },
  {
   "cell_type": "markdown",
   "metadata": {},
   "source": [
    "# Calculus (1st year)"
   ]
  },
  {
   "cell_type": "markdown",
   "metadata": {},
   "source": [
    "Watch my video here for a more in depth discussion: https://www.youtube.com/watch?v=-SdIZHPuW9o"
   ]
  },
  {
   "cell_type": "code",
   "execution_count": 21,
   "metadata": {},
   "outputs": [],
   "source": [
    "x = smp.symbols('x')"
   ]
  },
  {
   "cell_type": "markdown",
   "metadata": {},
   "source": [
    "## Limits"
   ]
  },
  {
   "cell_type": "markdown",
   "metadata": {},
   "source": [
    "$$\\lim_{x \\to \\pi} \\sin(x/2+ \\sin(x))$$"
   ]
  },
  {
   "cell_type": "code",
   "execution_count": 22,
   "metadata": {},
   "outputs": [
    {
     "data": {
      "text/latex": [
       "$\\displaystyle 1$"
      ],
      "text/plain": [
       "1"
      ]
     },
     "execution_count": 22,
     "metadata": {},
     "output_type": "execute_result"
    }
   ],
   "source": [
    "smp.limit(smp.sin(x/2 + smp.sin(x)), x, smp.pi)"
   ]
  },
  {
   "cell_type": "markdown",
   "metadata": {},
   "source": [
    "## Derivatives"
   ]
  },
  {
   "cell_type": "markdown",
   "metadata": {},
   "source": [
    "$$ \\frac{d}{dx} \\left( \\frac{1+\\sin x}{1 - \\cos x} \\right)^2 $$"
   ]
  },
  {
   "cell_type": "code",
   "execution_count": 23,
   "metadata": {},
   "outputs": [
    {
     "data": {
      "text/latex": [
       "$\\displaystyle \\frac{2 \\left(\\sin{\\left(x \\right)} + 1\\right) \\cos{\\left(x \\right)}}{\\left(1 - \\cos{\\left(x \\right)}\\right)^{2}} - \\frac{2 \\left(\\sin{\\left(x \\right)} + 1\\right)^{2} \\sin{\\left(x \\right)}}{\\left(1 - \\cos{\\left(x \\right)}\\right)^{3}}$"
      ],
      "text/plain": [
       "2*(sin(x) + 1)*cos(x)/(1 - cos(x))**2 - 2*(sin(x) + 1)**2*sin(x)/(1 - cos(x))**3"
      ]
     },
     "execution_count": 23,
     "metadata": {},
     "output_type": "execute_result"
    }
   ],
   "source": [
    "smp.diff(((1 + smp.sin(x)) / (1 - smp.cos(x)))**2, x)"
   ]
  },
  {
   "cell_type": "markdown",
   "metadata": {},
   "source": [
    "$$\\frac{d}{dx} f(x+g(x)) $$"
   ]
  },
  {
   "cell_type": "code",
   "execution_count": 100,
   "metadata": {},
   "outputs": [],
   "source": [
    "f, g = smp.symbols('f g', cls=smp.Function)\n",
    "g = g(x)\n",
    "f = f(x+g)"
   ]
  },
  {
   "cell_type": "code",
   "execution_count": 101,
   "metadata": {},
   "outputs": [
    {
     "data": {
      "text/latex": [
       "$\\displaystyle f{\\left(x + g{\\left(x \\right)} \\right)}$"
      ],
      "text/plain": [
       "f(x + g(x))"
      ]
     },
     "execution_count": 101,
     "metadata": {},
     "output_type": "execute_result"
    }
   ],
   "source": [
    "f"
   ]
  },
  {
   "cell_type": "code",
   "execution_count": 107,
   "metadata": {},
   "outputs": [
    {
     "data": {
      "text/latex": [
       "$\\displaystyle \\left(\\frac{d}{d x} g{\\left(x \\right)} + 1\\right) \\left. \\frac{d}{d \\xi_{1}} f{\\left(\\xi_{1} \\right)} \\right|_{\\substack{ \\xi_{1}=x + g{\\left(x \\right)} }}$"
      ],
      "text/plain": [
       "(Derivative(g(x), x) + 1)*Subs(Derivative(f(_xi_1), _xi_1), _xi_1, x + g(x))"
      ]
     },
     "execution_count": 107,
     "metadata": {},
     "output_type": "execute_result"
    }
   ],
   "source": [
    "dfdx = smp.diff(f,x)\n",
    "dfdx"
   ]
  },
  {
   "cell_type": "code",
   "execution_count": 109,
   "metadata": {},
   "outputs": [
    {
     "data": {
      "text/latex": [
       "$\\displaystyle \\left(\\frac{d}{d x} \\sin{\\left(x \\right)} + 1\\right) \\left. \\frac{d}{d \\xi_{1}} f{\\left(\\xi_{1} \\right)} \\right|_{\\substack{ \\xi_{1}=x + \\sin{\\left(x \\right)} }}$"
      ],
      "text/plain": [
       "(Derivative(sin(x), x) + 1)*Subs(Derivative(f(_xi_1), _xi_1), _xi_1, x + sin(x))"
      ]
     },
     "execution_count": 109,
     "metadata": {},
     "output_type": "execute_result"
    }
   ],
   "source": [
    "dfdx.subs([(g, smp.sin(x))]).doit() # need to call doit"
   ]
  },
  {
   "cell_type": "markdown",
   "metadata": {},
   "source": [
    "## Basic Antiderivatives"
   ]
  },
  {
   "cell_type": "markdown",
   "metadata": {},
   "source": [
    "$$ \\int \\csc(x) \\cot (x)  dx $$"
   ]
  },
  {
   "cell_type": "code",
   "execution_count": 27,
   "metadata": {},
   "outputs": [
    {
     "data": {
      "text/latex": [
       "$\\displaystyle - \\frac{1}{\\sin{\\left(x \\right)}}$"
      ],
      "text/plain": [
       "-1/sin(x)"
      ]
     },
     "execution_count": 27,
     "metadata": {},
     "output_type": "execute_result"
    }
   ],
   "source": [
    "smp.integrate(smp.csc(x)*smp.cot(x), x)"
   ]
  },
  {
   "cell_type": "markdown",
   "metadata": {},
   "source": [
    "## Definite Integrals"
   ]
  },
  {
   "cell_type": "markdown",
   "metadata": {},
   "source": [
    "$$\\int_{0}^{\\ln(4)}\\frac{e^x dt}{\\sqrt{e^{2x}+9}} $$"
   ]
  },
  {
   "cell_type": "code",
   "execution_count": 28,
   "metadata": {},
   "outputs": [
    {
     "data": {
      "text/latex": [
       "$\\displaystyle - \\operatorname{asinh}{\\left(\\frac{1}{3} \\right)} + \\operatorname{asinh}{\\left(\\frac{4}{3} \\right)}$"
      ],
      "text/plain": [
       "-asinh(1/3) + asinh(4/3)"
      ]
     },
     "execution_count": 28,
     "metadata": {},
     "output_type": "execute_result"
    }
   ],
   "source": [
    "smp.integrate(smp.exp(x) / smp.sqrt(smp.exp(2*x) + 9), (x, 0, smp.log(4)))"
   ]
  },
  {
   "cell_type": "markdown",
   "metadata": {},
   "source": [
    "$$\\int_1^t x^{10} e^x dx $$"
   ]
  },
  {
   "cell_type": "code",
   "execution_count": 29,
   "metadata": {},
   "outputs": [],
   "source": [
    "t= smp.symbols('t')"
   ]
  },
  {
   "cell_type": "code",
   "execution_count": 30,
   "metadata": {},
   "outputs": [
    {
     "data": {
      "text/latex": [
       "$\\displaystyle \\left(t^{10} - 10 t^{9} + 90 t^{8} - 720 t^{7} + 5040 t^{6} - 30240 t^{5} + 151200 t^{4} - 604800 t^{3} + 1814400 t^{2} - 3628800 t + 3628800\\right) e^{t} - 1334961 e$"
      ],
      "text/plain": [
       "(t**10 - 10*t**9 + 90*t**8 - 720*t**7 + 5040*t**6 - 30240*t**5 + 151200*t**4 - 604800*t**3 + 1814400*t**2 - 3628800*t + 3628800)*exp(t) - 1334961*E"
      ]
     },
     "execution_count": 30,
     "metadata": {},
     "output_type": "execute_result"
    }
   ],
   "source": [
    "smp.integrate(x**10*smp.exp(x), (x, 1, t))"
   ]
  },
  {
   "cell_type": "markdown",
   "metadata": {},
   "source": [
    "# Examples"
   ]
  },
  {
   "cell_type": "markdown",
   "metadata": {},
   "source": [
    "The hydrogen wave function is given by\n",
    "\n",
    "$$\\psi_{nlm} = R_{nl}(r)Y_l^m(\\theta, \\phi) $$\n",
    "\n",
    "$$R_{nl}(r) =  \\sqrt{\\left(\\frac{2}{na}\\right)^3 \\frac{(n-l-1)!}{2n[(n+1)!]}} e^{-r/na} \\left(\\frac{2r}{na}\\right)^l \\left[L_{n-l-1}^{2l+1}(2r/na)\\right]$$\n",
    "\n",
    "The mean distance from the nucleus of the electron:\n",
    "\n",
    "$$\\left<r\\right> = \\int R_{nl}^2 r^3 dr$$\n",
    "\n",
    "The standard deviation in the distance from the nucleus of the electron:\n",
    "\n",
    "$$\\sigma = \\sqrt{\\left<r^2\\right> - \\left<r\\right>^2} =  \\sqrt{\\left(\\int_{0}^{\\infty}R_{nl}^2 r^4 dr\\right) - \\left(\\int_{0}^{\\infty} R_{nl}^2 r^3 dr\\right)^2}$$"
   ]
  },
  {
   "cell_type": "code",
   "execution_count": 31,
   "metadata": {},
   "outputs": [],
   "source": [
    "from sympy import assoc_laguerre"
   ]
  },
  {
   "cell_type": "markdown",
   "metadata": {},
   "source": [
    "Define variables, be sure to specify their attributes"
   ]
  },
  {
   "cell_type": "code",
   "execution_count": 32,
   "metadata": {},
   "outputs": [],
   "source": [
    "r, a = smp.symbols('r a', real=True, positive=True)\n",
    "n, l = smp.symbols('n l', integer=True, positive=True)"
   ]
  },
  {
   "cell_type": "markdown",
   "metadata": {},
   "source": [
    "Define $R_{nl}(r)$"
   ]
  },
  {
   "cell_type": "code",
   "execution_count": 33,
   "metadata": {},
   "outputs": [
    {
     "data": {
      "text/latex": [
       "$\\displaystyle \\frac{2 \\left(\\frac{2 r}{a n}\\right)^{l} e^{- \\frac{r}{a n}} L_{- l + n - 1}^{\\left(2 l + 1\\right)}\\left(\\frac{2 r}{a n}\\right) \\sqrt{\\left(- l + n - 1\\right)!}}{a^{\\frac{3}{2}} n^{2} \\sqrt{\\left(l + n\\right)!}}$"
      ],
      "text/plain": [
       "2*(2*r/(a*n))**l*exp(-r/(a*n))*assoc_laguerre(-l + n - 1, 2*l + 1, 2*r/(a*n))*sqrt(factorial(-l + n - 1))/(a**(3/2)*n**2*sqrt(factorial(l + n)))"
      ]
     },
     "execution_count": 33,
     "metadata": {},
     "output_type": "execute_result"
    }
   ],
   "source": [
    "R = smp.sqrt((2/(n*a))**3 * smp.factorial(n-l-1)/(2*n*(smp.factorial(n+l)))) \\\n",
    "     *smp.exp(-r/(n*a)) * (2*r/(n*a))**l * assoc_laguerre(n-l-1,2*l+1,(2*r/(n*a)))\n",
    "R"
   ]
  },
  {
   "cell_type": "markdown",
   "metadata": {},
   "source": [
    "We can check to make sure this corresponds to the radial wavefunctions we expect. Lets see $R_{10}(r)$"
   ]
  },
  {
   "cell_type": "code",
   "execution_count": 34,
   "metadata": {},
   "outputs": [
    {
     "data": {
      "text/latex": [
       "$\\displaystyle \\frac{2 e^{- \\frac{r}{a}}}{a^{\\frac{3}{2}}}$"
      ],
      "text/plain": [
       "2*exp(-r/a)/a**(3/2)"
      ]
     },
     "execution_count": 34,
     "metadata": {},
     "output_type": "execute_result"
    }
   ],
   "source": [
    "R_10 = R.subs([(n,1),(l,0)])\n",
    "R_10"
   ]
  },
  {
   "cell_type": "markdown",
   "metadata": {},
   "source": [
    "Function to compute $\\int_{0}^{\\infty} R_{nl}^2 r^k dr$ for particular values of $n$, $l$ and $k$"
   ]
  },
  {
   "cell_type": "code",
   "execution_count": 39,
   "metadata": {},
   "outputs": [],
   "source": [
    "def compute_int(n_val, l_val, k):\n",
    "    R_nl = R.subs([(n,n_val),(l,l_val)])\n",
    "    return smp.integrate(R_nl**2 * r**k, (r,0,smp.oo))"
   ]
  },
  {
   "cell_type": "markdown",
   "metadata": {},
   "source": [
    "Compute the mean radial distance of an electron in the state $\\psi_{100}$"
   ]
  },
  {
   "cell_type": "code",
   "execution_count": 40,
   "metadata": {},
   "outputs": [
    {
     "data": {
      "text/latex": [
       "$\\displaystyle \\frac{3 a}{2}$"
      ],
      "text/plain": [
       "3*a/2"
      ]
     },
     "execution_count": 40,
     "metadata": {},
     "output_type": "execute_result"
    }
   ],
   "source": [
    "compute_int(n_val=1,l_val=0,k=3)"
   ]
  },
  {
   "cell_type": "markdown",
   "metadata": {},
   "source": [
    "Compute the spread $\\sigma$ in distances of the electron in state $\\psi_{100}$"
   ]
  },
  {
   "cell_type": "code",
   "execution_count": 41,
   "metadata": {},
   "outputs": [
    {
     "data": {
      "text/latex": [
       "$\\displaystyle \\frac{\\sqrt{3} a}{2}$"
      ],
      "text/plain": [
       "sqrt(3)*a/2"
      ]
     },
     "execution_count": 41,
     "metadata": {},
     "output_type": "execute_result"
    }
   ],
   "source": [
    "smp.sqrt(compute_int(n_val=1,l_val=0,k=4) - compute_int(n_val=1,l_val=0,k=3)**2)"
   ]
  },
  {
   "cell_type": "markdown",
   "metadata": {},
   "source": [
    "Compute the mean radial distance of an electron in the state $\\psi_{420}$"
   ]
  },
  {
   "cell_type": "code",
   "execution_count": 38,
   "metadata": {},
   "outputs": [
    {
     "data": {
      "text/latex": [
       "$\\displaystyle 21 a$"
      ],
      "text/plain": [
       "21*a"
      ]
     },
     "execution_count": 38,
     "metadata": {},
     "output_type": "execute_result"
    }
   ],
   "source": [
    "compute_int(n_val=4,l_val=2,k=3)"
   ]
  },
  {
   "cell_type": "markdown",
   "metadata": {},
   "source": [
    "# Multivariable Calculus"
   ]
  },
  {
   "cell_type": "code",
   "execution_count": 2,
   "metadata": {},
   "outputs": [],
   "source": [
    "x, y, z, u1, u2, u3, v1, v2, v3, t = smp.symbols('x y z u_1 u_2 u_3 v_1 v_2 v_3 t')"
   ]
  },
  {
   "cell_type": "markdown",
   "metadata": {},
   "source": [
    "## Vectors and Geometry"
   ]
  },
  {
   "cell_type": "code",
   "execution_count": 6,
   "metadata": {},
   "outputs": [],
   "source": [
    "u = smp.Matrix([u1,u2,u3])\n",
    "v = smp.Matrix([v1,v2,v3])"
   ]
  },
  {
   "cell_type": "markdown",
   "metadata": {},
   "source": [
    "### Addition and multiplication"
   ]
  },
  {
   "cell_type": "code",
   "execution_count": 11,
   "metadata": {},
   "outputs": [
    {
     "data": {
      "text/latex": [
       "$\\displaystyle \\left[\\begin{matrix}2 u_{1} + v_{1}\\\\2 u_{2} + v_{2}\\\\2 u_{3} + v_{3}\\end{matrix}\\right]$"
      ],
      "text/plain": [
       "Matrix([\n",
       "[2*u_1 + v_1],\n",
       "[2*u_2 + v_2],\n",
       "[2*u_3 + v_3]])"
      ]
     },
     "execution_count": 11,
     "metadata": {},
     "output_type": "execute_result"
    }
   ],
   "source": [
    "2*u+v"
   ]
  },
  {
   "cell_type": "markdown",
   "metadata": {},
   "source": [
    "Dot product"
   ]
  },
  {
   "cell_type": "code",
   "execution_count": 13,
   "metadata": {},
   "outputs": [
    {
     "data": {
      "text/latex": [
       "$\\displaystyle u_{1} v_{1} + u_{2} v_{2} + u_{3} v_{3}$"
      ],
      "text/plain": [
       "u_1*v_1 + u_2*v_2 + u_3*v_3"
      ]
     },
     "execution_count": 13,
     "metadata": {},
     "output_type": "execute_result"
    }
   ],
   "source": [
    "u.dot(v)"
   ]
  },
  {
   "cell_type": "markdown",
   "metadata": {},
   "source": [
    "Cross product"
   ]
  },
  {
   "cell_type": "code",
   "execution_count": 15,
   "metadata": {},
   "outputs": [
    {
     "data": {
      "text/latex": [
       "$\\displaystyle \\left[\\begin{matrix}u_{2} v_{3} - u_{3} v_{2}\\\\- u_{1} v_{3} + u_{3} v_{1}\\\\u_{1} v_{2} - u_{2} v_{1}\\end{matrix}\\right]$"
      ],
      "text/plain": [
       "Matrix([\n",
       "[ u_2*v_3 - u_3*v_2],\n",
       "[-u_1*v_3 + u_3*v_1],\n",
       "[ u_1*v_2 - u_2*v_1]])"
      ]
     },
     "execution_count": 15,
     "metadata": {},
     "output_type": "execute_result"
    }
   ],
   "source": [
    "u.cross(v)"
   ]
  },
  {
   "cell_type": "markdown",
   "metadata": {},
   "source": [
    "Norm"
   ]
  },
  {
   "cell_type": "code",
   "execution_count": 17,
   "metadata": {},
   "outputs": [
    {
     "data": {
      "text/latex": [
       "$\\displaystyle \\sqrt{\\left|{u_{1}}\\right|^{2} + \\left|{u_{2}}\\right|^{2} + \\left|{u_{3}}\\right|^{2}}$"
      ],
      "text/plain": [
       "sqrt(Abs(u_1)**2 + Abs(u_2)**2 + Abs(u_3)**2)"
      ]
     },
     "execution_count": 17,
     "metadata": {},
     "output_type": "execute_result"
    }
   ],
   "source": [
    "u.norm()"
   ]
  },
  {
   "cell_type": "markdown",
   "metadata": {},
   "source": [
    "$\\text{proj}_v(u) = \\frac{u \\cdot v}{|v|^2} v$"
   ]
  },
  {
   "cell_type": "code",
   "execution_count": 20,
   "metadata": {},
   "outputs": [
    {
     "data": {
      "text/latex": [
       "$\\displaystyle \\left[\\begin{matrix}\\frac{v_{1} \\left(u_{1} v_{1} + u_{2} v_{2} + u_{3} v_{3}\\right)}{\\left|{v_{1}}\\right|^{2} + \\left|{v_{2}}\\right|^{2} + \\left|{v_{3}}\\right|^{2}}\\\\\\frac{v_{2} \\left(u_{1} v_{1} + u_{2} v_{2} + u_{3} v_{3}\\right)}{\\left|{v_{1}}\\right|^{2} + \\left|{v_{2}}\\right|^{2} + \\left|{v_{3}}\\right|^{2}}\\\\\\frac{v_{3} \\left(u_{1} v_{1} + u_{2} v_{2} + u_{3} v_{3}\\right)}{\\left|{v_{1}}\\right|^{2} + \\left|{v_{2}}\\right|^{2} + \\left|{v_{3}}\\right|^{2}}\\end{matrix}\\right]$"
      ],
      "text/plain": [
       "Matrix([\n",
       "[v_1*(u_1*v_1 + u_2*v_2 + u_3*v_3)/(Abs(v_1)**2 + Abs(v_2)**2 + Abs(v_3)**2)],\n",
       "[v_2*(u_1*v_1 + u_2*v_2 + u_3*v_3)/(Abs(v_1)**2 + Abs(v_2)**2 + Abs(v_3)**2)],\n",
       "[v_3*(u_1*v_1 + u_2*v_2 + u_3*v_3)/(Abs(v_1)**2 + Abs(v_2)**2 + Abs(v_3)**2)]])"
      ]
     },
     "execution_count": 20,
     "metadata": {},
     "output_type": "execute_result"
    }
   ],
   "source": [
    "proj_v_u = u.dot(v)/v.norm()**2 * v\n",
    "proj_v_u"
   ]
  },
  {
   "cell_type": "markdown",
   "metadata": {},
   "source": [
    "Lines: $\\vec{r}(t) = \\vec{r}_0 + t\\vec{v}$"
   ]
  },
  {
   "cell_type": "code",
   "execution_count": 21,
   "metadata": {},
   "outputs": [
    {
     "data": {
      "text/latex": [
       "$\\displaystyle \\left[\\begin{matrix}t + 1\\\\3 t + 1\\\\1 - t\\end{matrix}\\right]$"
      ],
      "text/plain": [
       "Matrix([\n",
       "[  t + 1],\n",
       "[3*t + 1],\n",
       "[  1 - t]])"
      ]
     },
     "execution_count": 21,
     "metadata": {},
     "output_type": "execute_result"
    }
   ],
   "source": [
    "r0 = smp.Matrix([1,1,1])\n",
    "v = smp.Matrix([1,3,-1])\n",
    "r = r0 + t*v\n",
    "r"
   ]
  },
  {
   "cell_type": "markdown",
   "metadata": {},
   "source": [
    "Planes: $\\vec{n} \\cdot (P_0-\\left<x,y,z\\right>) = 0$"
   ]
  },
  {
   "cell_type": "code",
   "execution_count": 22,
   "metadata": {},
   "outputs": [
    {
     "data": {
      "text/latex": [
       "$\\displaystyle - x - y - z + 16$"
      ],
      "text/plain": [
       "-x - y - z + 16"
      ]
     },
     "execution_count": 22,
     "metadata": {},
     "output_type": "execute_result"
    }
   ],
   "source": [
    "P0 = smp.Matrix([4,4,8])\n",
    "r = smp.Matrix([x,y,z])\n",
    "n = smp.Matrix([1,1,1])\n",
    "n.dot(P0-r)"
   ]
  },
  {
   "cell_type": "markdown",
   "metadata": {},
   "source": [
    "## Vector Calculus"
   ]
  },
  {
   "cell_type": "markdown",
   "metadata": {},
   "source": [
    "### Vector Derivatives"
   ]
  },
  {
   "cell_type": "code",
   "execution_count": 25,
   "metadata": {},
   "outputs": [
    {
     "data": {
      "text/latex": [
       "$\\displaystyle \\left[\\begin{matrix}3 t\\\\\\sin{\\left(t \\right)}\\\\t^{2}\\end{matrix}\\right]$"
      ],
      "text/plain": [
       "Matrix([\n",
       "[   3*t],\n",
       "[sin(t)],\n",
       "[  t**2]])"
      ]
     },
     "execution_count": 25,
     "metadata": {},
     "output_type": "execute_result"
    }
   ],
   "source": [
    "r = smp.Matrix([3*t, smp.sin(t), t**2])\n",
    "r"
   ]
  },
  {
   "cell_type": "code",
   "execution_count": 26,
   "metadata": {},
   "outputs": [
    {
     "data": {
      "text/latex": [
       "$\\displaystyle \\left[\\begin{matrix}3\\\\\\cos{\\left(t \\right)}\\\\2 t\\end{matrix}\\right]$"
      ],
      "text/plain": [
       "Matrix([\n",
       "[     3],\n",
       "[cos(t)],\n",
       "[   2*t]])"
      ]
     },
     "execution_count": 26,
     "metadata": {},
     "output_type": "execute_result"
    }
   ],
   "source": [
    "smp.diff(r,t)"
   ]
  },
  {
   "cell_type": "markdown",
   "metadata": {},
   "source": [
    "**Example:** Find the angle between the velocity and acceleration as a function of time $\\theta(t)$"
   ]
  },
  {
   "cell_type": "code",
   "execution_count": 27,
   "metadata": {},
   "outputs": [],
   "source": [
    "v = smp.diff(r,t)\n",
    "a = smp.diff(v,t)\n",
    "theta = smp.acos(v.dot(a)/(v.norm()*a.norm())).simplify()\n",
    "theta"
   ]
  },
  {
   "cell_type": "markdown",
   "metadata": {},
   "source": [
    "Find theta at $t=6$"
   ]
  },
  {
   "cell_type": "code",
   "execution_count": 31,
   "metadata": {},
   "outputs": [
    {
     "data": {
      "text/latex": [
       "$\\displaystyle 0.251108015692338$"
      ],
      "text/plain": [
       "0.251108015692338"
      ]
     },
     "execution_count": 31,
     "metadata": {},
     "output_type": "execute_result"
    }
   ],
   "source": [
    "theta.subs(t,6).evalf()"
   ]
  },
  {
   "cell_type": "markdown",
   "metadata": {},
   "source": [
    "### Vector Integrals\n",
    "\n",
    "(Note: Will not add the +C)"
   ]
  },
  {
   "cell_type": "code",
   "execution_count": 86,
   "metadata": {},
   "outputs": [
    {
     "data": {
      "text/latex": [
       "$\\displaystyle \\left[\\begin{matrix}e^{t} \\cos{\\left(t \\right)}\\\\t^{4}\\\\\\frac{1}{t^{2} + 1}\\end{matrix}\\right]$"
      ],
      "text/plain": [
       "Matrix([\n",
       "[exp(t)*cos(t)],\n",
       "[         t**4],\n",
       "[ 1/(t**2 + 1)]])"
      ]
     },
     "execution_count": 86,
     "metadata": {},
     "output_type": "execute_result"
    }
   ],
   "source": [
    "r = smp.Matrix([smp.exp(t)*smp.cos(t), t**4, 1/(1+t**2)])\n",
    "r"
   ]
  },
  {
   "cell_type": "code",
   "execution_count": 40,
   "metadata": {},
   "outputs": [
    {
     "data": {
      "text/latex": [
       "$\\displaystyle \\left[\\begin{matrix}\\frac{e^{t} \\sin{\\left(t \\right)}}{2} + \\frac{e^{t} \\cos{\\left(t \\right)}}{2}\\\\\\frac{t^{5}}{5}\\\\\\operatorname{atan}{\\left(t \\right)}\\end{matrix}\\right]$"
      ],
      "text/plain": [
       "Matrix([\n",
       "[exp(t)*sin(t)/2 + exp(t)*cos(t)/2],\n",
       "[                           t**5/5],\n",
       "[                          atan(t)]])"
      ]
     },
     "execution_count": 40,
     "metadata": {},
     "output_type": "execute_result"
    }
   ],
   "source": [
    "smp.Integral(r).doit()"
   ]
  },
  {
   "cell_type": "markdown",
   "metadata": {},
   "source": [
    "Some cases integrals can't be solved analytically - > see Second Year in Calculus video"
   ]
  },
  {
   "cell_type": "code",
   "execution_count": 87,
   "metadata": {},
   "outputs": [
    {
     "data": {
      "text/plain": [
       "array([[-4.83559254e+05],\n",
       "       [ 9.06402477e-01],\n",
       "       [ 6.70972506e-01]])"
      ]
     },
     "execution_count": 87,
     "metadata": {},
     "output_type": "execute_result"
    }
   ],
   "source": [
    "from scipy.integrate import quad_vec\n",
    "r = smp.Matrix([smp.exp(t**2)*smp.cos(t)**3, smp.exp(-t**4), 1/(3+t**2)])\n",
    "r_num = smp.lambdify([t], r)\n",
    "quad_vec(r_num, 0, 4)[0]"
   ]
  },
  {
   "cell_type": "markdown",
   "metadata": {},
   "source": [
    "### Arclength\n",
    "\n",
    "$$L = \\int_a^b \\sqrt{dx^2 + dy^2 + dz^2} = \\int_a^b \\sqrt{(dx/dt)^2 + (dy/dt)^2 + (dz/dt)^2 } dt $$"
   ]
  },
  {
   "cell_type": "markdown",
   "metadata": {},
   "source": [
    "Rare Cases can be done symbolically. Find arclength of $\\left< 0, t, t^2 \\right>$ from $t=0$ to $t=1$"
   ]
  },
  {
   "cell_type": "code",
   "execution_count": 55,
   "metadata": {},
   "outputs": [
    {
     "data": {
      "text/latex": [
       "$\\displaystyle \\frac{\\operatorname{asinh}{\\left(2 \\right)}}{4} + \\frac{\\sqrt{5}}{2}$"
      ],
      "text/plain": [
       "asinh(2)/4 + sqrt(5)/2"
      ]
     },
     "execution_count": 55,
     "metadata": {},
     "output_type": "execute_result"
    }
   ],
   "source": [
    "r = smp.Matrix([0, t, t**2])\n",
    "smp.integrate(smp.diff(r,t).norm(), (t,0,1))"
   ]
  },
  {
   "cell_type": "markdown",
   "metadata": {},
   "source": [
    "# Examples\n",
    "\n",
    "The magnetic field at a point $\\vec{r}$ of a current configuration is \n",
    "\n",
    "$$\\vec{B}(\\vec{r}) = \\int_t \\frac{I \\frac{d\\vec{\\ell}}{dt} \\times (\\vec{r}-\\vec{\\ell})}{|\\vec{r}-\\vec{\\ell}|^2} dt $$\n",
    "\n",
    "where $\\vec{r} = (x,y,z)$ and $\\vec{l} = (f(t), g(t), h(t))$ is a 1D curve in space that gives the location of the wire.\n",
    "\n",
    "**Part 1: Use Sympy to find the integrand as a single 3-vector**"
   ]
  },
  {
   "cell_type": "code",
   "execution_count": 111,
   "metadata": {},
   "outputs": [],
   "source": [
    "x, y, z, t, I = smp.symbols('x y z t I', real=True)\n",
    "f, g, h = smp.symbols('f g h', cls=smp.Function)\n",
    "f=f(t)\n",
    "g=g(t)\n",
    "h=h(t)"
   ]
  },
  {
   "cell_type": "markdown",
   "metadata": {},
   "source": [
    "Define $\\vec{r}$, $\\vec{\\ell}$ and $\\vec{d\\ell/dt}$"
   ]
  },
  {
   "cell_type": "code",
   "execution_count": 112,
   "metadata": {},
   "outputs": [],
   "source": [
    "r = smp.Matrix([x,y,z])\n",
    "l = smp.Matrix([f,g,h])\n",
    "dldt = smp.diff(l)"
   ]
  },
  {
   "cell_type": "markdown",
   "metadata": {},
   "source": [
    "Define integrand"
   ]
  },
  {
   "cell_type": "code",
   "execution_count": 123,
   "metadata": {},
   "outputs": [],
   "source": [
    "dBdt = I * dldt.cross(r-l) / (r-l).norm()"
   ]
  },
  {
   "cell_type": "code",
   "execution_count": 124,
   "metadata": {},
   "outputs": [
    {
     "data": {
      "text/latex": [
       "$\\displaystyle \\left[\\begin{matrix}\\frac{I \\left(- \\left(y - g{\\left(t \\right)}\\right) \\frac{d}{d t} h{\\left(t \\right)} + \\left(z - h{\\left(t \\right)}\\right) \\frac{d}{d t} g{\\left(t \\right)}\\right)}{\\sqrt{\\left|{x - f{\\left(t \\right)}}\\right|^{2} + \\left|{y - g{\\left(t \\right)}}\\right|^{2} + \\left|{z - h{\\left(t \\right)}}\\right|^{2}}}\\\\\\frac{I \\left(\\left(x - f{\\left(t \\right)}\\right) \\frac{d}{d t} h{\\left(t \\right)} - \\left(z - h{\\left(t \\right)}\\right) \\frac{d}{d t} f{\\left(t \\right)}\\right)}{\\sqrt{\\left|{x - f{\\left(t \\right)}}\\right|^{2} + \\left|{y - g{\\left(t \\right)}}\\right|^{2} + \\left|{z - h{\\left(t \\right)}}\\right|^{2}}}\\\\\\frac{I \\left(- \\left(x - f{\\left(t \\right)}\\right) \\frac{d}{d t} g{\\left(t \\right)} + \\left(y - g{\\left(t \\right)}\\right) \\frac{d}{d t} f{\\left(t \\right)}\\right)}{\\sqrt{\\left|{x - f{\\left(t \\right)}}\\right|^{2} + \\left|{y - g{\\left(t \\right)}}\\right|^{2} + \\left|{z - h{\\left(t \\right)}}\\right|^{2}}}\\end{matrix}\\right]$"
      ],
      "text/plain": [
       "Matrix([\n",
       "[I*(-(y - g(t))*Derivative(h(t), t) + (z - h(t))*Derivative(g(t), t))/sqrt(Abs(x - f(t))**2 + Abs(y - g(t))**2 + Abs(z - h(t))**2)],\n",
       "[ I*((x - f(t))*Derivative(h(t), t) - (z - h(t))*Derivative(f(t), t))/sqrt(Abs(x - f(t))**2 + Abs(y - g(t))**2 + Abs(z - h(t))**2)],\n",
       "[I*(-(x - f(t))*Derivative(g(t), t) + (y - g(t))*Derivative(f(t), t))/sqrt(Abs(x - f(t))**2 + Abs(y - g(t))**2 + Abs(z - h(t))**2)]])"
      ]
     },
     "execution_count": 124,
     "metadata": {},
     "output_type": "execute_result"
    }
   ],
   "source": [
    "dBdt"
   ]
  },
  {
   "cell_type": "markdown",
   "metadata": {},
   "source": [
    "**Part 2**: Find the magnetic field a distance $H$ above a ring of radius $R$ flowing clockwise"
   ]
  },
  {
   "cell_type": "code",
   "execution_count": 125,
   "metadata": {},
   "outputs": [],
   "source": [
    "R, H = smp.symbols('R, H', real=True)"
   ]
  },
  {
   "cell_type": "code",
   "execution_count": 129,
   "metadata": {},
   "outputs": [
    {
     "data": {
      "text/latex": [
       "$\\displaystyle \\left[\\begin{matrix}\\frac{H I R \\cos{\\left(t \\right)}}{\\sqrt{H^{2} + R^{2}}}\\\\\\frac{H I R \\sin{\\left(t \\right)}}{\\sqrt{H^{2} + R^{2}}}\\\\\\frac{I R^{2}}{\\sqrt{H^{2} + R^{2}}}\\end{matrix}\\right]$"
      ],
      "text/plain": [
       "Matrix([\n",
       "[H*I*R*cos(t)/sqrt(H**2 + R**2)],\n",
       "[H*I*R*sin(t)/sqrt(H**2 + R**2)],\n",
       "[      I*R**2/sqrt(H**2 + R**2)]])"
      ]
     },
     "execution_count": 129,
     "metadata": {},
     "output_type": "execute_result"
    }
   ],
   "source": [
    "dBdt = dBdt.subs([(f, R*smp.cos(t)),\n",
    "                  (g, R*smp.sin(t)),\n",
    "                  (h, 0),\n",
    "                  (x,0), (y,0), (z,H)]).doit()\n",
    "dBdt.simplify()\n",
    "dBdt"
   ]
  },
  {
   "cell_type": "code",
   "execution_count": 131,
   "metadata": {},
   "outputs": [
    {
     "data": {
      "text/latex": [
       "$\\displaystyle \\left[\\begin{matrix}0\\\\0\\\\\\frac{2 \\pi I R^{2}}{\\sqrt{H^{2} + R^{2}}}\\end{matrix}\\right]$"
      ],
      "text/plain": [
       "Matrix([\n",
       "[                            0],\n",
       "[                            0],\n",
       "[2*pi*I*R**2/sqrt(H**2 + R**2)]])"
      ]
     },
     "execution_count": 131,
     "metadata": {},
     "output_type": "execute_result"
    }
   ],
   "source": [
    "smp.integrate(dBdt, [t,0,2*smp.pi])"
   ]
  },
  {
   "cell_type": "markdown",
   "metadata": {},
   "source": [
    "For more ccomplicated electrical wire configurations, see my video on solving for the magnetic field of an arbtriary wire (uses numerical integration)"
   ]
  },
  {
   "cell_type": "markdown",
   "metadata": {},
   "source": [
    "## Partial/Directional Derivatives"
   ]
  },
  {
   "cell_type": "code",
   "execution_count": 71,
   "metadata": {},
   "outputs": [],
   "source": [
    "x, y, z = smp.symbols('x y z')"
   ]
  },
  {
   "cell_type": "markdown",
   "metadata": {},
   "source": [
    "### Basics"
   ]
  },
  {
   "cell_type": "markdown",
   "metadata": {},
   "source": [
    "Partial Derivatives $\\partial f / \\partial x$ and $\\partial f / \\partial y$ of $f(x,y)=y^2\\sin(x+y)$"
   ]
  },
  {
   "cell_type": "code",
   "execution_count": 74,
   "metadata": {},
   "outputs": [
    {
     "data": {
      "text/latex": [
       "$\\displaystyle y^{2} \\cos{\\left(x + y \\right)}$"
      ],
      "text/plain": [
       "y**2*cos(x + y)"
      ]
     },
     "execution_count": 74,
     "metadata": {},
     "output_type": "execute_result"
    }
   ],
   "source": [
    "f = y**2 * smp.sin(x+y)\n",
    "smp.diff(f,x)"
   ]
  },
  {
   "cell_type": "code",
   "execution_count": 75,
   "metadata": {},
   "outputs": [
    {
     "data": {
      "text/latex": [
       "$\\displaystyle y^{2} \\cos{\\left(x + y \\right)} + 2 y \\sin{\\left(x + y \\right)}$"
      ],
      "text/plain": [
       "y**2*cos(x + y) + 2*y*sin(x + y)"
      ]
     },
     "execution_count": 75,
     "metadata": {},
     "output_type": "execute_result"
    }
   ],
   "source": [
    "smp.diff(f,y)"
   ]
  },
  {
   "cell_type": "markdown",
   "metadata": {},
   "source": [
    "Or more complicated things like $\\frac{\\partial^3 f}{\\partial xy^2}$"
   ]
  },
  {
   "cell_type": "code",
   "execution_count": 78,
   "metadata": {},
   "outputs": [
    {
     "data": {
      "text/latex": [
       "$\\displaystyle - y^{2} \\cos{\\left(x + y \\right)} - 4 y \\sin{\\left(x + y \\right)} + 2 \\cos{\\left(x + y \\right)}$"
      ],
      "text/plain": [
       "-y**2*cos(x + y) - 4*y*sin(x + y) + 2*cos(x + y)"
      ]
     },
     "execution_count": 78,
     "metadata": {},
     "output_type": "execute_result"
    }
   ],
   "source": [
    "smp.diff(f,y,y,x)"
   ]
  },
  {
   "cell_type": "markdown",
   "metadata": {},
   "source": [
    "### The Chain Rule"
   ]
  },
  {
   "cell_type": "code",
   "execution_count": 83,
   "metadata": {},
   "outputs": [],
   "source": [
    "t = smp.symbols('t')\n",
    "x, y, z, w, v =smp.symbols('x, y, z w v', cls=smp.Function)"
   ]
  },
  {
   "cell_type": "markdown",
   "metadata": {},
   "source": [
    "* Suppose $x$, $y$, and $z$ are functions of $t$ \n",
    "* $w$ is a function of $x$, $y$, and $z$. i.e $w=w(x,y,z)$\n",
    "\n",
    "Find $dw/dt$"
   ]
  },
  {
   "cell_type": "code",
   "execution_count": 84,
   "metadata": {},
   "outputs": [],
   "source": [
    "x = x(t)\n",
    "y = y(t)\n",
    "z = z(t)\n",
    "w = w(x, y, z)"
   ]
  },
  {
   "cell_type": "markdown",
   "metadata": {},
   "source": [
    "Can keep things in a more functional form:"
   ]
  },
  {
   "cell_type": "code",
   "execution_count": 86,
   "metadata": {},
   "outputs": [
    {
     "data": {
      "text/latex": [
       "$\\displaystyle \\frac{d}{d x{\\left(t \\right)}} w{\\left(x{\\left(t \\right)},y{\\left(t \\right)},z{\\left(t \\right)} \\right)} \\frac{d}{d t} x{\\left(t \\right)} + \\frac{d}{d y{\\left(t \\right)}} w{\\left(x{\\left(t \\right)},y{\\left(t \\right)},z{\\left(t \\right)} \\right)} \\frac{d}{d t} y{\\left(t \\right)} + \\frac{d}{d z{\\left(t \\right)}} w{\\left(x{\\left(t \\right)},y{\\left(t \\right)},z{\\left(t \\right)} \\right)} \\frac{d}{d t} z{\\left(t \\right)}$"
      ],
      "text/plain": [
       "Derivative(w(x(t), y(t), z(t)), x(t))*Derivative(x(t), t) + Derivative(w(x(t), y(t), z(t)), y(t))*Derivative(y(t), t) + Derivative(w(x(t), y(t), z(t)), z(t))*Derivative(z(t), t)"
      ]
     },
     "execution_count": 86,
     "metadata": {},
     "output_type": "execute_result"
    }
   ],
   "source": [
    "smp.diff(w,t)"
   ]
  },
  {
   "cell_type": "markdown",
   "metadata": {},
   "source": [
    "Or put in specific functions:"
   ]
  },
  {
   "cell_type": "code",
   "execution_count": 87,
   "metadata": {},
   "outputs": [
    {
     "data": {
      "text/latex": [
       "$\\displaystyle 2 t e^{\\cos{\\left(t \\right)}} \\cos{\\left(t^{2} \\right)} - e^{\\cos{\\left(t \\right)}} \\sin{\\left(t \\right)} \\sin{\\left(t^{2} \\right)} + 2 \\sin{\\left(t \\right)} \\cos{\\left(t \\right)}$"
      ],
      "text/plain": [
       "2*t*exp(cos(t))*cos(t**2) - exp(cos(t))*sin(t)*sin(t**2) + 2*sin(t)*cos(t)"
      ]
     },
     "execution_count": 87,
     "metadata": {},
     "output_type": "execute_result"
    }
   ],
   "source": [
    "w1 = x**2+smp.exp(y)*smp.sin(z)\n",
    "smp.diff(w1,t).subs([(x, smp.sin(t)),\n",
    "                    (y, smp.cos(t)),\n",
    "                    (z, t**2)]).doit()"
   ]
  },
  {
   "cell_type": "markdown",
   "metadata": {},
   "source": [
    "## Multiple Integrals"
   ]
  },
  {
   "cell_type": "markdown",
   "metadata": {},
   "source": [
    "In rare cases these can be done symbolically:\n",
    "\n",
    "$$\\int_0^1 \\int_0^{1-x^2} \\int_3^{4-x^2-y^2} xdzdydx$$"
   ]
  },
  {
   "cell_type": "code",
   "execution_count": 111,
   "metadata": {},
   "outputs": [
    {
     "data": {
      "text/latex": [
       "$\\displaystyle \\frac{1}{8}$"
      ],
      "text/plain": [
       "1/8"
      ]
     },
     "execution_count": 111,
     "metadata": {},
     "output_type": "execute_result"
    }
   ],
   "source": [
    "x, y, z = smp.symbols('x, y, z')\n",
    "f = x\n",
    "smp.integrate(f, (z, 3, 4-x**2-y**2), (y, 0, 1-x**2), (x, 0, 1))"
   ]
  },
  {
   "cell_type": "markdown",
   "metadata": {},
   "source": [
    "## Lagrangian Mechanics"
   ]
  },
  {
   "cell_type": "markdown",
   "metadata": {},
   "source": [
    "The (simplified) idea of Lagrangian mechanics is the that kinetic energy and potential energy of a system can be expressed in terms of generalized coordinates and velocity\n",
    "\n",
    "$$T = T(q,\\dot{q}) \\hspace{20mm} V=V(q,\\dot{q})$$\n",
    "\n",
    "where $q$ could be xyz of a point particle, or some angle $\\theta$ (pendulum), or whatever makes the problem easiest to solve. The defining $L=T-V$, the following equation gives the equations of motion $q(t)$\n",
    "\n",
    "$$\\frac{dL}{dq} - \\frac{d}{dt}\\frac{dL}{d\\dot{q}} = 0 $$\n",
    "\n",
    "for all the different $q$'s of the system. The equation above gives a second order differential equation for all the different $q(t)$s."
   ]
  },
  {
   "cell_type": "markdown",
   "metadata": {},
   "source": [
    "**Example**: Find the equations of motion (in the form of differential equations)"
   ]
  },
  {
   "cell_type": "markdown",
   "metadata": {},
   "source": [
    "<p align=\"center\">\n",
    "  <img src=\"..\\images\\symp_tut_p1.PNG\" alt=\"drawing\" width=\"300\" align=\"center\"/>\n",
    "</p>"
   ]
  },
  {
   "cell_type": "markdown",
   "metadata": {},
   "source": [
    "Let $(x,y)$ be the position of the pendulum bob"
   ]
  },
  {
   "cell_type": "code",
   "execution_count": 149,
   "metadata": {},
   "outputs": [],
   "source": [
    "t, R, g, m1, m2 = smp.symbols('t R g m_1 m_2')\n",
    "z, theta = smp.symbols(r'z \\theta', cls=smp.Function)\n",
    "z = z(t)\n",
    "theta = theta(t)\n",
    "\n",
    "dzdt = smp.diff(z,t)\n",
    "dthedt = smp.diff(theta,t)"
   ]
  },
  {
   "cell_type": "markdown",
   "metadata": {},
   "source": [
    "Define location of pendulum"
   ]
  },
  {
   "cell_type": "code",
   "execution_count": 150,
   "metadata": {},
   "outputs": [],
   "source": [
    "x = z + R*smp.sin(theta)\n",
    "y = -R*smp.cos(theta)"
   ]
  },
  {
   "cell_type": "markdown",
   "metadata": {},
   "source": [
    "Kinetic and potential energies"
   ]
  },
  {
   "cell_type": "code",
   "execution_count": 151,
   "metadata": {},
   "outputs": [],
   "source": [
    "T1 = smp.Rational(1,2) * m1 * smp.diff(z,t)**2\n",
    "T2 = smp.Rational(1,2) * m2 * (smp.diff(x,t)**2 + smp.diff(y,t)**2)\n",
    "T = T1 + T2\n",
    "V1 = 0\n",
    "V2 = m2*g*y\n",
    "V = V1 + V2"
   ]
  },
  {
   "cell_type": "code",
   "execution_count": 152,
   "metadata": {},
   "outputs": [],
   "source": [
    "L = T-V"
   ]
  },
  {
   "cell_type": "code",
   "execution_count": 156,
   "metadata": {},
   "outputs": [],
   "source": [
    "LE1 = smp.diff(L, z) - smp.diff(smp.diff(L,dzdt), t)\n",
    "LE2 = smp.diff(L, theta) - smp.diff(smp.diff(L,dthedt), t)"
   ]
  },
  {
   "cell_type": "code",
   "execution_count": 157,
   "metadata": {},
   "outputs": [
    {
     "data": {
      "text/latex": [
       "$\\displaystyle - m_{1} \\frac{d^{2}}{d t^{2}} z{\\left(t \\right)} - \\frac{m_{2} \\left(- 2 R \\sin{\\left(\\theta{\\left(t \\right)} \\right)} \\left(\\frac{d}{d t} \\theta{\\left(t \\right)}\\right)^{2} + 2 R \\cos{\\left(\\theta{\\left(t \\right)} \\right)} \\frac{d^{2}}{d t^{2}} \\theta{\\left(t \\right)} + 2 \\frac{d^{2}}{d t^{2}} z{\\left(t \\right)}\\right)}{2}$"
      ],
      "text/plain": [
       "-m_1*Derivative(z(t), (t, 2)) - m_2*(-2*R*sin(\\theta(t))*Derivative(\\theta(t), t)**2 + 2*R*cos(\\theta(t))*Derivative(\\theta(t), (t, 2)) + 2*Derivative(z(t), (t, 2)))/2"
      ]
     },
     "execution_count": 157,
     "metadata": {},
     "output_type": "execute_result"
    }
   ],
   "source": [
    "LE1"
   ]
  },
  {
   "cell_type": "code",
   "execution_count": 158,
   "metadata": {},
   "outputs": [
    {
     "data": {
      "text/latex": [
       "$\\displaystyle - R g m_{2} \\sin{\\left(\\theta{\\left(t \\right)} \\right)} + \\frac{m_{2} \\left(2 R^{2} \\sin{\\left(\\theta{\\left(t \\right)} \\right)} \\cos{\\left(\\theta{\\left(t \\right)} \\right)} \\left(\\frac{d}{d t} \\theta{\\left(t \\right)}\\right)^{2} - 2 R \\left(R \\cos{\\left(\\theta{\\left(t \\right)} \\right)} \\frac{d}{d t} \\theta{\\left(t \\right)} + \\frac{d}{d t} z{\\left(t \\right)}\\right) \\sin{\\left(\\theta{\\left(t \\right)} \\right)} \\frac{d}{d t} \\theta{\\left(t \\right)}\\right)}{2} - \\frac{m_{2} \\left(2 R^{2} \\sin^{2}{\\left(\\theta{\\left(t \\right)} \\right)} \\frac{d^{2}}{d t^{2}} \\theta{\\left(t \\right)} + 4 R^{2} \\sin{\\left(\\theta{\\left(t \\right)} \\right)} \\cos{\\left(\\theta{\\left(t \\right)} \\right)} \\left(\\frac{d}{d t} \\theta{\\left(t \\right)}\\right)^{2} - 2 R \\left(R \\cos{\\left(\\theta{\\left(t \\right)} \\right)} \\frac{d}{d t} \\theta{\\left(t \\right)} + \\frac{d}{d t} z{\\left(t \\right)}\\right) \\sin{\\left(\\theta{\\left(t \\right)} \\right)} \\frac{d}{d t} \\theta{\\left(t \\right)} + 2 R \\left(- R \\sin{\\left(\\theta{\\left(t \\right)} \\right)} \\left(\\frac{d}{d t} \\theta{\\left(t \\right)}\\right)^{2} + R \\cos{\\left(\\theta{\\left(t \\right)} \\right)} \\frac{d^{2}}{d t^{2}} \\theta{\\left(t \\right)} + \\frac{d^{2}}{d t^{2}} z{\\left(t \\right)}\\right) \\cos{\\left(\\theta{\\left(t \\right)} \\right)}\\right)}{2}$"
      ],
      "text/plain": [
       "-R*g*m_2*sin(\\theta(t)) + m_2*(2*R**2*sin(\\theta(t))*cos(\\theta(t))*Derivative(\\theta(t), t)**2 - 2*R*(R*cos(\\theta(t))*Derivative(\\theta(t), t) + Derivative(z(t), t))*sin(\\theta(t))*Derivative(\\theta(t), t))/2 - m_2*(2*R**2*sin(\\theta(t))**2*Derivative(\\theta(t), (t, 2)) + 4*R**2*sin(\\theta(t))*cos(\\theta(t))*Derivative(\\theta(t), t)**2 - 2*R*(R*cos(\\theta(t))*Derivative(\\theta(t), t) + Derivative(z(t), t))*sin(\\theta(t))*Derivative(\\theta(t), t) + 2*R*(-R*sin(\\theta(t))*Derivative(\\theta(t), t)**2 + R*cos(\\theta(t))*Derivative(\\theta(t), (t, 2)) + Derivative(z(t), (t, 2)))*cos(\\theta(t)))/2"
      ]
     },
     "execution_count": 158,
     "metadata": {},
     "output_type": "execute_result"
    }
   ],
   "source": [
    "LE2"
   ]
  },
  {
   "cell_type": "markdown",
   "metadata": {},
   "source": [
    "We want a system of two second order differential equations that we can solve"
   ]
  },
  {
   "cell_type": "code",
   "execution_count": 164,
   "metadata": {},
   "outputs": [],
   "source": [
    "sols = smp.solve([LE1, LE2], [smp.diff(z,t,t), smp.diff(theta,t,t)])"
   ]
  },
  {
   "cell_type": "markdown",
   "metadata": {},
   "source": [
    "Find $d^2 \\theta / dt^2 = $"
   ]
  },
  {
   "cell_type": "code",
   "execution_count": 165,
   "metadata": {},
   "outputs": [
    {
     "data": {
      "text/latex": [
       "$\\displaystyle - \\frac{\\left(R m_{2} \\cos{\\left(\\theta{\\left(t \\right)} \\right)} \\left(\\frac{d}{d t} \\theta{\\left(t \\right)}\\right)^{2} + g \\left(m_{1} + m_{2}\\right)\\right) \\sin{\\left(\\theta{\\left(t \\right)} \\right)}}{R \\left(m_{1} + m_{2} \\sin^{2}{\\left(\\theta{\\left(t \\right)} \\right)}\\right)}$"
      ],
      "text/plain": [
       "-(R*m_2*cos(\\theta(t))*Derivative(\\theta(t), t)**2 + g*(m_1 + m_2))*sin(\\theta(t))/(R*(m_1 + m_2*sin(\\theta(t))**2))"
      ]
     },
     "execution_count": 165,
     "metadata": {},
     "output_type": "execute_result"
    }
   ],
   "source": [
    "sols[smp.diff(theta,t,t)]"
   ]
  },
  {
   "cell_type": "markdown",
   "metadata": {},
   "source": [
    "Find $d^2 z / dt^2 = $"
   ]
  },
  {
   "cell_type": "code",
   "execution_count": 166,
   "metadata": {},
   "outputs": [
    {
     "data": {
      "text/latex": [
       "$\\displaystyle \\frac{m_{2} \\left(R \\left(\\frac{d}{d t} \\theta{\\left(t \\right)}\\right)^{2} + g \\cos{\\left(\\theta{\\left(t \\right)} \\right)}\\right) \\sin{\\left(\\theta{\\left(t \\right)} \\right)}}{m_{1} + m_{2} \\sin^{2}{\\left(\\theta{\\left(t \\right)} \\right)}}$"
      ],
      "text/plain": [
       "m_2*(R*Derivative(\\theta(t), t)**2 + g*cos(\\theta(t)))*sin(\\theta(t))/(m_1 + m_2*sin(\\theta(t))**2)"
      ]
     },
     "execution_count": 166,
     "metadata": {},
     "output_type": "execute_result"
    }
   ],
   "source": [
    "sols[smp.diff(z,t,t)]"
   ]
  },
  {
   "cell_type": "markdown",
   "metadata": {},
   "source": [
    "With these two second order differential equations, the system can be numerically solved! (See any of my videos on Lagrangian mechanics)"
   ]
  }
 ],
 "metadata": {
  "kernelspec": {
   "display_name": "Python 3",
   "language": "python",
   "name": "python3"
  },
  "language_info": {
   "codemirror_mode": {
    "name": "ipython",
    "version": 3
   },
   "file_extension": ".py",
   "mimetype": "text/x-python",
   "name": "python",
   "nbconvert_exporter": "python",
   "pygments_lexer": "ipython3",
   "version": "3.8.5"
  }
 },
 "nbformat": 4,
 "nbformat_minor": 4
}
