{
 "cells": [
  {
   "cell_type": "code",
   "execution_count": 3,
   "metadata": {},
   "outputs": [],
   "source": [
    "import numpy as np\n",
    "import matplotlib.pyplot as plt\n",
    "plt.style.use(['science', 'notebook'])"
   ]
  },
  {
   "cell_type": "markdown",
   "metadata": {},
   "source": [
    "The general purpose of most first year physics labs is change an **independent** variable $x$, collect measurements $x_i$ and $y_i$, ans use these to determine a physical parameter:\n",
    "\n",
    "**Example 1**: Falling object $t = \\sqrt{2h/g}$. Here $x=h$ (change height of dropped object) $y=t$ (dependent variable) and one wants to measure $g$. Measurements are $(h_i, t_i)$.\n",
    "\n",
    "**Example 2**: $V=IR$. Change voltage, measure change in current, determine $R$. Here $x=V$ and $y=I$, one wants to measure $R$, Measurements are $(V_i, I_i)$\n",
    "\n",
    "In our case, we have the equation $T=\\sqrt{\\frac{L}{g}}$ and we're changing the length of the pendulum and seeing how that affects the frequency:\n",
    "\n",
    "* $x=L$ (the independent variable that we're changing)\n",
    "* $y=T$ (what we're measuring in response to changing $x$)\n",
    "* Parameter we want to estimate is $g$.\n",
    "* Measurements are $(L_i, T_i)$\n",
    "\n",
    "In all these cases, even one measurement $(x_i, y_i)$ is enough to determine the parameter of interest. But if we collect many pairs, we can test the physical laws over a larger parameter space"
   ]
  },
  {
   "cell_type": "markdown",
   "metadata": {},
   "source": [
    "Ultimately we want to **rearrange** our data so its of the form $Y=MX+B$ where $Y=f(y)$ and $X=f(x)$.\n",
    "\n",
    "**Example 1**: \n",
    "* (Option 1) We can choose $Y=t$ and $X=\\sqrt{h}$ then if follows that $\\boxed{Y=\\sqrt{2/g}X+0}$ so $m=\\sqrt{2/g}$ and $b=0$.\n",
    "* (Option 2) We can square both sides to get $t^2=2h/g$ then choose $Y=t^2$ and $X=h$ to get $\\boxed{Y=(2/g)X+0}$ so $m=2/g$ and $b=0$.\n",
    "\n",
    "Then you can do a fit on $(X_i,Y_i)$ to get $M$, and from $M$ you can get information on the physical parameter"
   ]
  },
  {
   "cell_type": "code",
   "execution_count": 63,
   "metadata": {},
   "outputs": [],
   "source": [
    "g = 9.81\n",
    "L = np.arange(0.1,1,0.1)\n",
    "T = np.sqrt(l/g) + np.random.randn(9)*0.005\n",
    "uT = np.ones(9)*0.01\n",
    "N = len(L)"
   ]
  },
  {
   "cell_type": "code",
   "execution_count": 64,
   "metadata": {},
   "outputs": [
    {
     "data": {
      "image/png": "[encoded data removed]",
      "text/plain": [
       "<Figure size 576x216 with 1 Axes>"
      ]
     },
     "metadata": {
      "needs_background": "light"
     },
     "output_type": "display_data"
    }
   ],
   "source": [
    "plt.figure(figsize=(8,3))\n",
    "plt.scatter(l,T, color='k',s=8)\n",
    "plt.errorbar(l,T,uT,ls='')\n",
    "plt.xlabel('Length of Pendulum')\n",
    "plt.ylabel('Measured Period')\n",
    "plt.show()"
   ]
  },
  {
   "cell_type": "markdown",
   "metadata": {},
   "source": [
    "Using the fact that $T=\\sqrt{L/g}$ we can rearrange this to\n",
    "\n",
    "$$T^2 = \\left(\\frac{1}{g}\\right)L$$\n",
    "\n",
    "so we can compare it to\n",
    "\n",
    "$$Y = MX+B$$\n",
    "\n",
    "* $Y$ is as $T^2$. This is the dependent variable (the thing we measure)\n",
    "* $X$ is as $L$. This is the independent variable (the thing we change)\n",
    "* $M$ is as $1/g$. This is a parameter.\n",
    "* $B=0$. This is also a parameter, but we know its zero in this case."
   ]
  },
  {
   "cell_type": "code",
   "execution_count": 65,
   "metadata": {},
   "outputs": [],
   "source": [
    "y_data = T**2\n",
    "x_data = L"
   ]
  },
  {
   "cell_type": "markdown",
   "metadata": {},
   "source": [
    "What about the uncertainties? We know that\n",
    "\n",
    "$$u[f(x)] \\approx \\left| \\frac{df}{dx} \\right| u[x]$$\n",
    "\n",
    "and thus\n",
    "\n",
    "$$u[T^2] = \\left| 2T \\right| u[T]$$"
   ]
  },
  {
   "cell_type": "code",
   "execution_count": 66,
   "metadata": {},
   "outputs": [],
   "source": [
    "uy_data = 2*T*uT"
   ]
  },
  {
   "cell_type": "markdown",
   "metadata": {},
   "source": [
    "For any fitted function $f$ to some data $(x_i, y_i)$, the value of $\\chi^2$ is\n",
    "\n",
    "$$\\chi^2 = \\frac{1}{N-P}\\sum_{i=1}^N \\left( \\frac{y_i - f(x_i;\\text{parameters})}{u[y_i]} \\right)^2$$\n",
    "\n",
    "* **Linear**: $f(x_i;\\text{parameters}) = mx+b$ so the parameters are $m$ and $b$  and number of parameters $P=2$\n",
    "* **Quadratic**: $f(x_i;\\text{parameters}) = ax^2+bx+c$ so the parameters are $a$, $b$ and $c$ and number of params $P=3$\n",
    "\n",
    "It turns out that we want to adjust the parameters so that $\\chi^2$ is as small as possible. This gives the best possible parameters for our fit. Why? \n",
    "\n",
    "1. Assume that your measurements $y_i$ are Gaussian with mean $f(x_i) = mx_i+b$ and standard deviation $u[y_i]$\n",
    "2. After applying various statistical theorems, the most likely values of $m$ and $b$, given the data $(x_i, y_i)$ that you measured, are the ones that minimizes the $\\chi^2$ quantity above.\n",
    "\n",
    "Furthermore, the smaller the value of $\\chi^2$ that you obtain, the more likely that $m$ and $b$ (and thus the model $f$) actually describe your data. The solution that minimizes $\\chi^2$ when fitting the line $y=mx$ to some data $(x_i, y_i)$ is\n",
    "\n",
    "$$m = \\frac{\\sum_i x_i y_i}{\\sum_i x_i^2}$$\n",
    "\n",
    "and the uncertainty on the fit parameter is\n",
    "\n",
    "$$u[m] = \\sqrt{\\frac{1}{N}\\frac{\\sum_i (y_i - mx_i)^2}{\\sum_i x_i^2}}$$"
   ]
  },
  {
   "cell_type": "code",
   "execution_count": 67,
   "metadata": {},
   "outputs": [],
   "source": [
    "m = sum(x_data*y_data)/sum(x_data**2)\n",
    "um = np.sqrt(1/N * sum(y_data-m*x_data)**2 / sum(x_data**2))\n",
    "chi2 = 1/(N-1) * sum(((y_data-m*x_data)/uy_data)**2)"
   ]
  },
  {
   "cell_type": "code",
   "execution_count": 68,
   "metadata": {},
   "outputs": [],
   "source": [
    "x = np.linspace(min(x_data), max(x_data), 1000)\n",
    "y = m*x"
   ]
  },
  {
   "cell_type": "code",
   "execution_count": 69,
   "metadata": {},
   "outputs": [
    {
     "data": {
      "text/plain": [
       "Text(0, 0.5, 'Measured Period')"
      ]
     },
     "execution_count": 69,
     "metadata": {},
     "output_type": "execute_result"
    },
    {
     "data": {
      "image/png": "[encoded data removed]",
      "text/plain": [
       "<Figure size 576x216 with 1 Axes>"
      ]
     },
     "metadata": {
      "needs_background": "light"
     },
     "output_type": "display_data"
    }
   ],
   "source": [
    "plt.figure(figsize=(8,3))\n",
    "plt.scatter(x_data,y_data, color='k',s=8)\n",
    "plt.errorbar(x_data,y_data,uy_data,ls='')\n",
    "plt.plot(x,y,'-',color='red')\n",
    "plt.xlabel('Length of Pendulum')\n",
    "plt.ylabel('Measured Period')"
   ]
  },
  {
   "cell_type": "code",
   "execution_count": 70,
   "metadata": {},
   "outputs": [
    {
     "data": {
      "text/plain": [
       "0.31314179249010343"
      ]
     },
     "execution_count": 70,
     "metadata": {},
     "output_type": "execute_result"
    }
   ],
   "source": [
    "chi2"
   ]
  }
 ],
 "metadata": {
  "kernelspec": {
   "display_name": "Python 3",
   "language": "python",
   "name": "python3"
  },
  "language_info": {
   "codemirror_mode": {
    "name": "ipython",
    "version": 3
   },
   "file_extension": ".py",
   "mimetype": "text/x-python",
   "name": "python",
   "nbconvert_exporter": "python",
   "pygments_lexer": "ipython3",
   "version": "3.8.5"
  }
 },
 "nbformat": 4,
 "nbformat_minor": 4
}
