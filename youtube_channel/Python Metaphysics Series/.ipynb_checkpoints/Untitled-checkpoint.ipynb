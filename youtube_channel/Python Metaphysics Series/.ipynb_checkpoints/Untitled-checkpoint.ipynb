{
 "cells": [
  {
   "cell_type": "code",
   "execution_count": 1,
   "metadata": {},
   "outputs": [],
   "source": [
    "import numpy as np\n",
    "import scipy as sp\n",
    "import sympy as smp\n",
    "import matplotlib.pyplot as plt"
   ]
  },
  {
   "cell_type": "markdown",
   "metadata": {},
   "source": [
    "Bloch Equations\n",
    "\n",
    "$$\\frac{dM_x}{dt} = \\gamma \\left( \\vec{M} \\times \\vec{B}(t) \\right)_x - \\frac{M_x}{T_2} $$ \n",
    "$$\\frac{dM_y}{dt} = \\gamma \\left( \\vec{M} \\times \\vec{B}(t) \\right)_y - \\frac{M_y}{T_2} $$ \n",
    "$$\\frac{dM_z}{dt} = \\gamma \\left( \\vec{M} \\times \\vec{B}(t) \\right)_z - \\frac{M_0-M_z}{T_1} $$\n",
    "\n",
    "Typically we write the magnetic field as $\\vec{B}(t) = B_0 \\hat{z} + B_{\\perp} \\hat{s}(\\beta t)$ where\n",
    "\n",
    "* $B_0$ is the large field along the $\\hat{z}$ direction (foot to head) direction of the MRI scanner\n",
    "* $B_{\\perp}$ is a rotating magnetic field in the $xy$ plane that is occasionally turned on\n",
    "* $\\hat{s}(\\beta t) = \\cos(\\beta t)\\hat{x} + \\sin(\\beta t)\\hat{y}$ specifies the rotation. So $\\beta$ is the angular frequency of the rotation.\n",
    "\n",
    "**Rotating Frame** where $\\vec{\\Omega} = \\Omega \\hat{z}$. Can show the new equations of motion are\n",
    "\n",
    "$$\\frac{dM_{x'}}{dt} = \\gamma \\left( \\vec{M'} \\times \\left(\\vec{B'}(t) - \\frac{1}{\\gamma}\\vec{\\Omega} \\right) \\right)_{x'} - \\frac{M_{x'}}{T_2} $$ \n",
    "$$\\frac{dM_{y'}}{dt} = \\gamma \\left( \\vec{M'} \\times \\left(\\vec{B'}(t) - \\frac{1}{\\gamma}\\vec{\\Omega} \\right)  \\right)_{y'} - \\frac{M_{y'}}{T_2} $$ \n",
    "$$\\frac{dM_{z'}}{dt} = \\gamma \\left( \\vec{M'} \\times \\left(\\vec{B'}(t) - \\frac{1}{\\gamma}\\vec{\\Omega} \\right)  \\right)_{z'} - \\frac{M_0 - M_{z'}}{T_1} $$\n",
    "\n",
    "Subbing in our values\n",
    "\n",
    "$$\\frac{dM_{x'}}{dt} = \\left( \\vec{M'} \\times \\left[(\\gamma B_0 - \\Omega)\\hat{z} + \\gamma B_{\\perp} \\hat{s}'\\left((\\beta-\\Omega) t\\right))\\right] \\right)_{x'} - \\frac{M_{x'}}{T_2} $$ \n",
    "$$\\frac{dM_{y'}}{dt} = \\left( \\vec{M'} \\times \\left[\\gamma B_0 - \\Omega)\\hat{z}+ \\gamma B_{\\perp} \\hat{s}'\\left((\\beta-\\Omega) t\\right)\\right]  \\right)_{y'} - \\frac{M_{y'}}{T_2} $$ \n",
    "$$\\frac{dM_{z'}}{dt} = \\left( \\vec{M'} \\times \\left[\\gamma B_0 - \\Omega)\\hat{z} + \\gamma B_{\\perp} \\hat{s}'\\left((\\beta-\\Omega) t\\right)\\right]  \\right)_{z'} - \\frac{M_0 - M_{z'}}{T_1} $$\n",
    "\n",
    "These equations can be solved and the regular magnetization can be obtained using\n",
    "\n",
    "$$\\begin{bmatrix} M_x\\\\ M_y\\\\ M_z \\end{bmatrix} = \\begin{bmatrix} \\cos(\\Omega t) & \\sin(\\Omega t) & 0 \\\\ -\\sin(\\Omega t) & \\cos(\\Omega t) & 0 \\\\\n",
    " 0 & 0 & 1 \\end{bmatrix}\\begin{bmatrix} M_{x'}\\\\ M_{y'}\\\\ M_{z'} \\end{bmatrix}$$\n",
    " \n",
    "We can make a few more adjustments to these equations before solving numerically to ensure all values are near an order of magnitude of 1. We can write\n",
    "\n",
    "$$\\begin{align*}\n",
    " \\vec{B'}(t) - \\frac{1}{\\gamma}\\vec{\\Omega} &= \\vec{B}_0' +  \\vec{B}_{1}' - \\frac{1}{\\gamma}\\vec{\\Omega}\\\\\n",
    " & \\equiv \\vec{B}_{1}' + \\frac{1}{\\gamma} \\vec{\\omega}\\\\\n",
    " & = B_1 \\left( \\hat{B}_{1}' + \\frac{1}{\\gamma B_1} \\vec{\\omega}\\right)\n",
    "\\end{align*}$$\n",
    "\n",
    "Then define\n",
    "\n",
    "* $\\vec{\\alpha} \\equiv  \\frac{1}{\\gamma B_1} \\vec{\\omega} = \\frac{1}{\\gamma B_1} \\left(\\gamma \\vec{B}_0' - \\vec{\\Omega} \\right)$\n",
    "* $\\vec{m} \\equiv \\vec{M}/M_0$ (normalize magntization to dimenionless numbers)\n",
    "* $T = \\frac{t}{\\gamma B_{1}}$\n",
    "\n",
    "and our equation becomes\n",
    "\n",
    "$$\\frac{dm_{x'}}{dT} = \\left( \\vec{m'} \\times  \\left( \\hat{B}_{1}'(t) + \\vec{\\alpha} \\right) \\right)_{x'} - \\frac{m_{x'}}{T_2} $$ \n",
    "$$\\frac{dm_{y'}}{dT} = \\left( \\vec{m'} \\times  \\left( \\hat{B}_{1}'(t) + \\vec{\\alpha} \\right) \\right)_{y'} - \\frac{m_{y'}}{T_2} $$ \n",
    "$$\\frac{dm_{z'}}{dT} = \\left( \\vec{m'} \\times \\left( \\hat{B}_{1}'(t) + \\vec{\\alpha} \\right) \\right)_{z'} - \\frac{1-m_{z'}}{T_1} $$\n",
    "\n",
    "**MRI** has $\\vec{B}_{0} = \\vec{B}_{0}(x,y,z,t) \\implies \\alpha = \\alpha(x,y,z,t)$"
   ]
  },
  {
   "cell_type": "code",
   "execution_count": 4,
   "metadata": {},
   "outputs": [],
   "source": [
    "def dmdT(m, T, Beff, T1, T2):\n",
    "    Mx, My, Mz = M\n",
    "    Bx, By, Bz = Beff(T)\n",
    "    return [My*Bz - By*My - Mx/T2,\n",
    "            Bx*Mz - Mx*Bz - My/T2,\n",
    "            Mx*By - My*Bx - Mz/T1]"
   ]
  },
  {
   "cell_type": "code",
   "execution_count": null,
   "metadata": {},
   "outputs": [],
   "source": []
  }
 ],
 "metadata": {
  "kernelspec": {
   "display_name": "Python 3",
   "language": "python",
   "name": "python3"
  },
  "language_info": {
   "codemirror_mode": {
    "name": "ipython",
    "version": 3
   },
   "file_extension": ".py",
   "mimetype": "text/x-python",
   "name": "python",
   "nbconvert_exporter": "python",
   "pygments_lexer": "ipython3",
   "version": "3.8.5"
  }
 },
 "nbformat": 4,
 "nbformat_minor": 4
}
