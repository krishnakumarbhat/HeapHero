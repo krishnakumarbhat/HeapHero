{
 "cells": [
  {
   "cell_type": "code",
   "execution_count": 182,
   "metadata": {},
   "outputs": [],
   "source": [
    "import numpy as np\n",
    "import sympy as smp\n",
    "from sympy.functions import conjugate\n",
    "from scipy.integrate import dblquad\n",
    "import matplotlib.pyplot as plt"
   ]
  },
  {
   "cell_type": "code",
   "execution_count": 190,
   "metadata": {},
   "outputs": [],
   "source": [
    "x = smp.symbols('x', real=True)\n",
    "a, L, m, k, kp, t = smp.symbols('a L m k k\\' t', real=True, positive=True)"
   ]
  },
  {
   "cell_type": "code",
   "execution_count": 191,
   "metadata": {},
   "outputs": [],
   "source": [
    "psi = smp.exp(-x**2 / (2*a**2))\n",
    "psi = psi/smp.sqrt(smp.integrate(psi**2, (x, -smp.oo, smp.oo)))"
   ]
  },
  {
   "cell_type": "code",
   "execution_count": 193,
   "metadata": {},
   "outputs": [
    {
     "data": {
      "text/latex": [
       "$\\displaystyle \\frac{e^{- \\frac{x^{2}}{2 a^{2}}}}{\\sqrt[4]{\\pi} \\sqrt{a}}$"
      ],
      "text/plain": [
       "exp(-x**2/(2*a**2))/(pi**(1/4)*sqrt(a))"
      ]
     },
     "execution_count": 193,
     "metadata": {},
     "output_type": "execute_result"
    }
   ],
   "source": [
    "psi"
   ]
  },
  {
   "cell_type": "code",
   "execution_count": 194,
   "metadata": {},
   "outputs": [
    {
     "data": {
      "text/latex": [
       "$\\displaystyle \\frac{1}{2 a^{2}}$"
      ],
      "text/plain": [
       "1/(2*a**2)"
      ]
     },
     "execution_count": 194,
     "metadata": {},
     "output_type": "execute_result"
    }
   ],
   "source": [
    "p2 = smp.integrate(psi*(-smp.diff(psi, (x,2))), (x,-smp.oo,smp.oo))\n",
    "p2"
   ]
  },
  {
   "cell_type": "markdown",
   "metadata": {},
   "source": [
    "$p=mv = mx/T$, particle travels distane $x=L$"
   ]
  },
  {
   "cell_type": "code",
   "execution_count": 195,
   "metadata": {},
   "outputs": [
    {
     "data": {
      "text/latex": [
       "$\\displaystyle \\sqrt{2} L a m$"
      ],
      "text/plain": [
       "sqrt(2)*L*a*m"
      ]
     },
     "execution_count": 195,
     "metadata": {},
     "output_type": "execute_result"
    }
   ],
   "source": [
    "T = m*L / smp.sqrt(p2)\n",
    "T"
   ]
  },
  {
   "cell_type": "markdown",
   "metadata": {},
   "source": [
    "Eigenvalues/eigenstates"
   ]
  },
  {
   "cell_type": "code",
   "execution_count": 196,
   "metadata": {},
   "outputs": [],
   "source": [
    "psi_E = smp.exp(smp.I*k*x)\n",
    "c_E = 1/(2*smp.pi) * smp.integrate(psi*psi_E.conjugate(), (x, -smp.oo, smp.oo)).simplify()"
   ]
  },
  {
   "cell_type": "code",
   "execution_count": 197,
   "metadata": {},
   "outputs": [
    {
     "data": {
      "text/latex": [
       "$\\displaystyle \\frac{e^{- \\frac{x^{2}}{2 a^{2}}}}{\\sqrt[4]{\\pi} \\sqrt{a}}$"
      ],
      "text/plain": [
       "exp(-x**2/(2*a**2))/(pi**(1/4)*sqrt(a))"
      ]
     },
     "execution_count": 197,
     "metadata": {},
     "output_type": "execute_result"
    }
   ],
   "source": [
    "smp.integrate(c_E*psi_E, (k, -smp.oo, smp.oo)).simplify()"
   ]
  },
  {
   "cell_type": "code",
   "execution_count": 198,
   "metadata": {},
   "outputs": [],
   "source": [
    "c_Ep_c = c_E.subs(k, kp).conjugate()\n",
    "psi_Ep_c = psi_E.subs(k, kp).conjugate()"
   ]
  },
  {
   "cell_type": "code",
   "execution_count": 199,
   "metadata": {},
   "outputs": [],
   "source": [
    "r = smp.integrate(psi_E*psi_Ep_c, (x, -L, L))\n",
    "r = r.rewrite(smp.sin).simplify().rewrite(smp.sinc).simplify()"
   ]
  },
  {
   "cell_type": "code",
   "execution_count": 200,
   "metadata": {},
   "outputs": [
    {
     "data": {
      "text/latex": [
       "$\\displaystyle 2 L \\operatorname{sinc}{\\left(L \\left(k - k'\\right) \\right)}$"
      ],
      "text/plain": [
       "2*L*sinc(L*(k - k'))"
      ]
     },
     "execution_count": 200,
     "metadata": {},
     "output_type": "execute_result"
    }
   ],
   "source": [
    "r"
   ]
  },
  {
   "cell_type": "code",
   "execution_count": 201,
   "metadata": {},
   "outputs": [
    {
     "data": {
      "text/latex": [
       "$\\displaystyle \\frac{L a e^{\\frac{- a^{2} k^{2} m - a^{2} k'^{2} m + i t \\left(k^{2} - k'^{2}\\right)}{2 m}} \\operatorname{sinc}{\\left(L \\left(k - k'\\right) \\right)}}{\\pi^{\\frac{3}{2}}}$"
      ],
      "text/plain": [
       "L*a*exp((-a**2*k**2*m - a**2*k'**2*m + I*t*(k**2 - k'**2))/(2*m))*sinc(L*(k - k'))/pi**(3/2)"
      ]
     },
     "execution_count": 201,
     "metadata": {},
     "output_type": "execute_result"
    }
   ],
   "source": [
    "integrand = c_E*c_Ep_c * r *smp.exp(smp.I*(k**2-kp**2)*t / (2*m))\n",
    "integrand = integrand.simplify()\n",
    "integrand"
   ]
  },
  {
   "cell_type": "code",
   "execution_count": 202,
   "metadata": {},
   "outputs": [],
   "source": [
    "integrand_f = smp.lambdify((k, kp, a, L, m, t), integrand)"
   ]
  },
  {
   "cell_type": "code",
   "execution_count": 203,
   "metadata": {},
   "outputs": [],
   "source": [
    "L = 1\n",
    "a = 1\n",
    "m = 1\n",
    "t = 2**(1/2) * np.pi**(1/4) * L * a**(3/2) * m"
   ]
  },
  {
   "cell_type": "code",
   "execution_count": 204,
   "metadata": {},
   "outputs": [
    {
     "data": {
      "text/plain": [
       "<matplotlib.collections.QuadMesh at 0x148c16c50>"
      ]
     },
     "execution_count": 204,
     "metadata": {},
     "output_type": "execute_result"
    },
    {
     "data": {
      "image/png": "[encoded data removed]",
      "text/plain": [
       "<Figure size 432x288 with 1 Axes>"
      ]
     },
     "metadata": {
      "needs_background": "light"
     },
     "output_type": "display_data"
    }
   ],
   "source": [
    "k_grid, kp_grid = np.meshgrid(*2*[np.linspace(-3,3,1000)])\n",
    "p = integrand_f(k_grid,kp_grid,a,L,m,t)\n",
    "plt.pcolormesh(k_grid, kp_grid, np.abs(p)**2)"
   ]
  },
  {
   "cell_type": "code",
   "execution_count": 219,
   "metadata": {},
   "outputs": [],
   "source": [
    "def compute_prob(t, L, m=1):\n",
    "    return 0.5*(1-dblquad(integrand_f, -np.inf, np.inf, lambda _:  -np.inf, lambda _: np.inf, args=(1,L,m,t))[0])"
   ]
  },
  {
   "cell_type": "code",
   "execution_count": 220,
   "metadata": {},
   "outputs": [],
   "source": [
    "t = np.linspace(0, 30, 10)\n",
    "p = np.vectorize(compute_prob)(t, 5)"
   ]
  },
  {
   "cell_type": "code",
   "execution_count": 224,
   "metadata": {},
   "outputs": [
    {
     "data": {
      "text/plain": [
       "Text(0.5, 0, 't')"
      ]
     },
     "execution_count": 224,
     "metadata": {},
     "output_type": "execute_result"
    },
    {
     "data": {
      "image/png": "[encoded data removed]",
      "text/plain": [
       "<Figure size 432x288 with 1 Axes>"
      ]
     },
     "metadata": {
      "needs_background": "light"
     },
     "output_type": "display_data"
    }
   ],
   "source": [
    "plt.plot(t,p, 'ko--')\n",
    "plt.axvline(5*np.sqrt(2))\n",
    "plt.title('Probability of being past $x=5a$')\n",
    "plt.ylabel('Probability')\n",
    "plt.xlabel('t')"
   ]
  },
  {
   "cell_type": "code",
   "execution_count": null,
   "metadata": {},
   "outputs": [],
   "source": []
  }
 ],
 "metadata": {
  "kernelspec": {
   "display_name": "Python 3",
   "language": "python",
   "name": "python3"
  },
  "language_info": {
   "codemirror_mode": {
    "name": "ipython",
    "version": 3
   },
   "file_extension": ".py",
   "mimetype": "text/x-python",
   "name": "python",
   "nbconvert_exporter": "python",
   "pygments_lexer": "ipython3",
   "version": "3.6.9"
  }
 },
 "nbformat": 4,
 "nbformat_minor": 2
}
