{
 "cells": [
  {
   "cell_type": "code",
   "execution_count": 1,
   "metadata": {},
   "outputs": [],
   "source": [
    "import numpy as np\n",
    "import matplotlib.pyplot as plt\n",
    "from matplotlib import animation\n",
    "from mpl_toolkits.mplot3d import Axes3D\n",
    "from matplotlib.animation import PillowWriter\n",
    "from matplotlib import cm\n",
    "from skimage import color\n",
    "from skimage import io\n",
    "from scipy.ndimage import convolve, generate_binary_structure\n",
    "import numba\n",
    "from numba import jit\n",
    "import time"
   ]
  },
  {
   "cell_type": "markdown",
   "metadata": {},
   "source": [
    "The heat equation $$\\alpha \\nabla^2 u = \\frac{\\partial u}{ \\partial t}$$\n",
    "\n",
    "* $u$ is temperature\n",
    "* $\\alpha$ is the thermal diffusivity\n",
    "* $t$ is time\n",
    "\n",
    "in two dimensions and in discrete form, can be written as\n",
    "\n",
    "$$\\alpha \\left( \\frac{u_{i+1,j}^{(m)} -2u_{i,j}^{(m)} + u_{i-1,j}^{(m)}}{\\Delta x^2} + \\frac{u_{i,j+1}^{(m)} -2u_{i,j}^{(m)} + u_{i,j-1}^{(m)}}{\\Delta y^2}\\right) = \\frac{u_j^{(m+1)} - u_j^{(m)}}{\\Delta t} $$ \n",
    "\n",
    "Can rearrange to solve for $m+1$ \n",
    "\n",
    "$$ u_j^{(m+1)} = u_j^{(m)} + \\alpha \\frac{\\Delta t}{\\Delta x^2} \\left( u_{i+1,j}^{(m)} + u_{i-1,j}^{(m)} +  u_{i,j+1}^{(m)} + u_{i,j-1}^{(m)}  -4u_{i,j}^{(m)} \\right) $$"
   ]
  },
  {
   "cell_type": "code",
   "execution_count": 2,
   "metadata": {},
   "outputs": [],
   "source": [
    "edge = np.linspace(0, 1, 100)\n",
    "xv, yv = np.meshgrid(edge, edge)"
   ]
  },
  {
   "cell_type": "markdown",
   "metadata": {},
   "source": [
    "Load image. Find locations of the turkey pixels in boolean 2d array"
   ]
  },
  {
   "cell_type": "code",
   "execution_count": 4,
   "metadata": {},
   "outputs": [
    {
     "name": "stderr",
     "output_type": "stream",
     "text": [
      "<ipython-input-4-04ae653af5fc>:1: FutureWarning: Non RGB image conversion is now deprecated. For RGBA images, please use rgb2gray(rgba2rgb(rgb)) instead. In version 0.19, a ValueError will be raised if input image last dimension length is not 3.\n",
      "  img = color.rgb2gray(io.imread('../../output/turkey.png'))\n"
     ]
    }
   ],
   "source": [
    "img = color.rgb2gray(io.imread('../../output/turkey.png'))\n",
    "img = np.flip(img, axis=0)\n",
    "is_turkey = img<0.9"
   ]
  },
  {
   "cell_type": "code",
   "execution_count": 5,
   "metadata": {},
   "outputs": [
    {
     "data": {
      "image/png": "[encoded data removed]",
      "text/plain": [
       "<Figure size 640x480 with 1 Axes>"
      ]
     },
     "metadata": {},
     "output_type": "display_data"
    }
   ],
   "source": [
    "plt.pcolormesh(is_turkey)\n",
    "plt.show()"
   ]
  },
  {
   "cell_type": "markdown",
   "metadata": {},
   "source": [
    "Thermal diffusivity of the turkey:"
   ]
  },
  {
   "cell_type": "code",
   "execution_count": 6,
   "metadata": {},
   "outputs": [],
   "source": [
    "a_turk = 1.32e-7"
   ]
  },
  {
   "cell_type": "markdown",
   "metadata": {},
   "source": [
    "Oven and initial turkey temperature"
   ]
  },
  {
   "cell_type": "code",
   "execution_count": 7,
   "metadata": {},
   "outputs": [],
   "source": [
    "rawturk_temp = 273.15 + 25\n",
    "oven_temp = 273.15 + 165"
   ]
  },
  {
   "cell_type": "markdown",
   "metadata": {},
   "source": [
    "Set the turkey to the initial turkey temperature and the oven to the preheated oven temperature"
   ]
  },
  {
   "cell_type": "code",
   "execution_count": 8,
   "metadata": {},
   "outputs": [],
   "source": [
    "T0 = np.ones([100,100]) * oven_temp\n",
    "T0[is_turkey] = rawturk_temp"
   ]
  },
  {
   "cell_type": "markdown",
   "metadata": {},
   "source": [
    "Set the dimensions of the problem"
   ]
  },
  {
   "cell_type": "code",
   "execution_count": 9,
   "metadata": {},
   "outputs": [],
   "source": [
    "x = 0.5\n",
    "dx = 0.5/100\n",
    "dt = 1"
   ]
  },
  {
   "cell_type": "markdown",
   "metadata": {},
   "source": [
    "Compute $s = \\alpha \\Delta t / \\Delta x^2$. $s$ needs to be much less than 1/4 for this to work."
   ]
  },
  {
   "cell_type": "code",
   "execution_count": 10,
   "metadata": {},
   "outputs": [
    {
     "data": {
      "text/plain": [
       "0.005279999999999999"
      ]
     },
     "execution_count": 10,
     "metadata": {},
     "output_type": "execute_result"
    }
   ],
   "source": [
    "s = a_turk * dt / dx**2\n",
    "s"
   ]
  },
  {
   "cell_type": "code",
   "execution_count": 11,
   "metadata": {},
   "outputs": [
    {
     "data": {
      "text/plain": [
       "array([[ 0.,  1.,  0.],\n",
       "       [ 1., -4.,  1.],\n",
       "       [ 0.,  1.,  0.]])"
      ]
     },
     "execution_count": 11,
     "metadata": {},
     "output_type": "execute_result"
    }
   ],
   "source": [
    "kern = generate_binary_structure(2,1).astype(float)\n",
    "kern[1,1] = -4\n",
    "kern"
   ]
  },
  {
   "cell_type": "code",
   "execution_count": 37,
   "metadata": {},
   "outputs": [],
   "source": [
    "def solve_heat_pythonic(T0, is_turkey, N_times):\n",
    "    T_curr = T0.copy()\n",
    "    for t in range(1, N_times):\n",
    "        T_curr = T_curr + s * convolve(T_curr, kern)\n",
    "        T_curr[~is_turkey] = oven_temp\n",
    "    return T_curr"
   ]
  },
  {
   "cell_type": "code",
   "execution_count": 38,
   "metadata": {},
   "outputs": [
    {
     "name": "stdout",
     "output_type": "stream",
     "text": [
      "0.12048260000000255\n"
     ]
    }
   ],
   "source": [
    "t1 = time.perf_counter()\n",
    "T111 = solve_heat_pythonic(T0, is_turkey, 1000)\n",
    "t2 = time.perf_counter()\n",
    "print(t2-t1)"
   ]
  },
  {
   "cell_type": "code",
   "execution_count": 39,
   "metadata": {},
   "outputs": [],
   "source": [
    "@numba.jit(\"f8[:,:](f8[:,:], b1[:,:], i8)\", nopython=True, nogil=True)\n",
    "def solve_heat_numba(T0, is_turkey, N_times):\n",
    "    x_length, y_length = T0.shape\n",
    "    T_curr = T0.copy()\n",
    "    for t in range(1,N_times):\n",
    "        for i in range(1, x_length-1):\n",
    "            for j in range(1, y_length-1):\n",
    "                if is_turkey[j][i]:\n",
    "                    T_curr[j][i] = T_curr[j][i] + s * (T_curr[j+1][i] + T_curr[j-1][i] +\\\n",
    "                                                    T_curr[j][i+1] + T_curr[j][i-1] -\\\n",
    "                                                    4*T_curr[j][i])          \n",
    "    return T_curr"
   ]
  },
  {
   "cell_type": "code",
   "execution_count": 46,
   "metadata": {},
   "outputs": [
    {
     "name": "stdout",
     "output_type": "stream",
     "text": [
      "0.03812899999996944\n"
     ]
    }
   ],
   "source": [
    "t1 = time.perf_counter()\n",
    "T222 = solve_heat_numba(T0, is_turkey, 1000)\n",
    "t2 = time.perf_counter()\n",
    "print(t2-t1)"
   ]
  },
  {
   "cell_type": "code",
   "execution_count": 47,
   "metadata": {},
   "outputs": [
    {
     "data": {
      "image/png": "[encoded data removed]",
      "text/plain": [
       "<Figure size 640x480 with 2 Axes>"
      ]
     },
     "metadata": {},
     "output_type": "display_data"
    }
   ],
   "source": [
    "plt.imshow(T222-T111)\n",
    "plt.colorbar()\n",
    "plt.show()"
   ]
  },
  {
   "cell_type": "markdown",
   "metadata": {},
   "source": [
    "Plot"
   ]
  },
  {
   "cell_type": "code",
   "execution_count": 79,
   "metadata": {},
   "outputs": [
    {
     "data": {
      "image/png": "[encoded data removed]",
      "text/plain": [
       "<Figure size 432x288 with 1 Axes>"
      ]
     },
     "metadata": {
      "needs_background": "light"
     },
     "output_type": "display_data"
    }
   ],
   "source": [
    "plt.plot(t, avg_temp, label='average')\n",
    "plt.plot(t, min_temp, label='average')\n",
    "plt.axhline(80, color='k', ls='--')\n",
    "plt.xlabel('Time[hours]')\n",
    "plt.ylabel('Temp [$^\\circ C$]')\n",
    "plt.grid()"
   ]
  }
 ],
 "metadata": {
  "kernelspec": {
   "display_name": "Python 3.10.8 64-bit (microsoft store)",
   "language": "python",
   "name": "python3"
  },
  "language_info": {
   "codemirror_mode": {
    "name": "ipython",
    "version": 3
   },
   "file_extension": ".py",
   "mimetype": "text/x-python",
   "name": "python",
   "nbconvert_exporter": "python",
   "pygments_lexer": "ipython3",
   "version": "3.10.8"
  },
  "vscode": {
   "interpreter": {
    "hash": "a4645a6e9dc82d72f8c7ded2639a2045ce5b1a25059c8e86a27423a2059a2806"
   }
  }
 },
 "nbformat": 4,
 "nbformat_minor": 4
}
