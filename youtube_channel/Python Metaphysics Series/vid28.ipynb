{
 "cells": [
  {
   "cell_type": "code",
   "execution_count": 1,
   "metadata": {},
   "outputs": [],
   "source": [
    "import numpy as np\n",
    "import matplotlib.pyplot as plt\n",
    "import matplotlib\n",
    "from matplotlib import animation\n",
    "from matplotlib.animation import PillowWriter\n",
    "import scienceplots\n",
    "plt.style.use(['science', 'notebook'])\n",
    "from itertools import combinations"
   ]
  },
  {
   "cell_type": "markdown",
   "metadata": {},
   "source": [
    "Define number of particles and get random positions (between 0 and 1) for each particle"
   ]
  },
  {
   "cell_type": "code",
   "execution_count": 2,
   "metadata": {},
   "outputs": [],
   "source": [
    "n_particles = 16\n",
    "r = np.random.random((2,n_particles))\n",
    "# Color particles the start on either side\n",
    "ixr = r[0]>0.5 #right\n",
    "ixl = r[0]<=0.5 #left"
   ]
  },
  {
   "cell_type": "markdown",
   "metadata": {},
   "source": [
    "Give IDs to each particle (this will come in handy later)"
   ]
  },
  {
   "cell_type": "code",
   "execution_count": 3,
   "metadata": {},
   "outputs": [],
   "source": [
    "ids = np.arange(n_particles)"
   ]
  },
  {
   "cell_type": "code",
   "execution_count": 4,
   "metadata": {},
   "outputs": [
    {
     "data": {
      "text/plain": [
       "array([ 0,  1,  2,  3,  4,  5,  6,  7,  8,  9, 10, 11, 12, 13, 14, 15])"
      ]
     },
     "execution_count": 4,
     "metadata": {},
     "output_type": "execute_result"
    }
   ],
   "source": [
    "ids"
   ]
  },
  {
   "cell_type": "markdown",
   "metadata": {},
   "source": [
    "Plot initial configuration of particles"
   ]
  },
  {
   "cell_type": "code",
   "execution_count": 5,
   "metadata": {},
   "outputs": [
    {
     "data": {
      "text/plain": [
       "<matplotlib.collections.PathCollection at 0x29975762310>"
      ]
     },
     "execution_count": 5,
     "metadata": {},
     "output_type": "execute_result"
    },
    {
     "data": {
      "image/png": "[encoded data removed]",
      "text/plain": [
       "<Figure size 500x500 with 1 Axes>"
      ]
     },
     "metadata": {},
     "output_type": "display_data"
    }
   ],
   "source": [
    "plt.figure(figsize=(5,5))\n",
    "plt.scatter(r[0][ixr],r[1][ixr], color='r', s=6)\n",
    "plt.scatter(r[0][ixl],r[1][ixl], color='b', s=6)"
   ]
  },
  {
   "cell_type": "markdown",
   "metadata": {},
   "source": [
    "Obtain the initial velocities in the gas. We'll make the particles starting on the RHS move to the left at 500m/s and on the vice versa.\n",
    "\n",
    "* **Note**: We're using the assumption that particles in a gas move at approximately 500m/s, thanks google."
   ]
  },
  {
   "cell_type": "code",
   "execution_count": 6,
   "metadata": {},
   "outputs": [],
   "source": [
    "v = np.zeros((2,n_particles))\n",
    "v[0][ixr] = -500\n",
    "v[0][ixl] = 500"
   ]
  },
  {
   "cell_type": "markdown",
   "metadata": {},
   "source": [
    "To run this simulation, we need to determine when two particles collide, and what the resulting final velocities will be.\n",
    "\n",
    "# Part 1: Distance Between all Pairs\n",
    "\n",
    "* To determine if two particles collide, we need to find the distance between **all pairs** of particles. If the distance is less than 2 times the radius of each particle, they collide. If there are $n$ particles, there are $n(n-1)/2$ pairs (combinatorics). To make this easier, we'll get pairs of particle IDs."
   ]
  },
  {
   "cell_type": "code",
   "execution_count": 7,
   "metadata": {},
   "outputs": [],
   "source": [
    "ids_pairs = np.asarray(list(combinations(ids,2)))\n",
    "#ids_pairs"
   ]
  },
  {
   "cell_type": "code",
   "execution_count": 8,
   "metadata": {},
   "outputs": [
    {
     "data": {
      "text/plain": [
       "array([ 0,  0,  0,  0,  0,  0,  0,  0,  0,  0,  0,  0,  0,  0,  0,  1,  1,\n",
       "        1,  1,  1,  1,  1,  1,  1,  1,  1,  1,  1,  1,  2,  2,  2,  2,  2,\n",
       "        2,  2,  2,  2,  2,  2,  2,  2,  3,  3,  3,  3,  3,  3,  3,  3,  3,\n",
       "        3,  3,  3,  4,  4,  4,  4,  4,  4,  4,  4,  4,  4,  4,  5,  5,  5,\n",
       "        5,  5,  5,  5,  5,  5,  5,  6,  6,  6,  6,  6,  6,  6,  6,  6,  7,\n",
       "        7,  7,  7,  7,  7,  7,  7,  8,  8,  8,  8,  8,  8,  8,  9,  9,  9,\n",
       "        9,  9,  9, 10, 10, 10, 10, 10, 11, 11, 11, 11, 12, 12, 12, 13, 13,\n",
       "       14])"
      ]
     },
     "execution_count": 8,
     "metadata": {},
     "output_type": "execute_result"
    }
   ],
   "source": [
    "ids_pairs[:,0]"
   ]
  },
  {
   "attachments": {},
   "cell_type": "markdown",
   "metadata": {},
   "source": [
    "We can obtain distances between particles in a similar fashion\n",
    "\n",
    "* First get the pairs of x-positions of all particles (**NOTE: THIS HAS BEEN UPDATED SINCE THE YOUTUBE VIDEO AND IS MUCH MORE EFFICIENT. THANK YOU TO @swni ON REDDIT FOR THE SUGGESTION**)"
   ]
  },
  {
   "cell_type": "code",
   "execution_count": 9,
   "metadata": {},
   "outputs": [
    {
     "data": {
      "text/plain": [
       "array([[0.29076664, 0.20878243],\n",
       "       [0.29076664, 0.60700343],\n",
       "       [0.29076664, 0.37796709],\n",
       "       [0.29076664, 0.31448031],\n",
       "       [0.29076664, 0.19485887],\n",
       "       [0.29076664, 0.73616031],\n",
       "       [0.29076664, 0.65827589],\n",
       "       [0.29076664, 0.12562909],\n",
       "       [0.29076664, 0.94418557],\n",
       "       [0.29076664, 0.27175823],\n",
       "       [0.29076664, 0.958812  ],\n",
       "       [0.29076664, 0.61704431],\n",
       "       [0.29076664, 0.63367342],\n",
       "       [0.29076664, 0.42583373],\n",
       "       [0.29076664, 0.57457249],\n",
       "       [0.20878243, 0.60700343],\n",
       "       [0.20878243, 0.37796709],\n",
       "       [0.20878243, 0.31448031],\n",
       "       [0.20878243, 0.19485887],\n",
       "       [0.20878243, 0.73616031],\n",
       "       [0.20878243, 0.65827589],\n",
       "       [0.20878243, 0.12562909],\n",
       "       [0.20878243, 0.94418557],\n",
       "       [0.20878243, 0.27175823],\n",
       "       [0.20878243, 0.958812  ],\n",
       "       [0.20878243, 0.61704431],\n",
       "       [0.20878243, 0.63367342],\n",
       "       [0.20878243, 0.42583373],\n",
       "       [0.20878243, 0.57457249],\n",
       "       [0.60700343, 0.37796709],\n",
       "       [0.60700343, 0.31448031],\n",
       "       [0.60700343, 0.19485887],\n",
       "       [0.60700343, 0.73616031],\n",
       "       [0.60700343, 0.65827589],\n",
       "       [0.60700343, 0.12562909],\n",
       "       [0.60700343, 0.94418557],\n",
       "       [0.60700343, 0.27175823],\n",
       "       [0.60700343, 0.958812  ],\n",
       "       [0.60700343, 0.61704431],\n",
       "       [0.60700343, 0.63367342],\n",
       "       [0.60700343, 0.42583373],\n",
       "       [0.60700343, 0.57457249],\n",
       "       [0.37796709, 0.31448031],\n",
       "       [0.37796709, 0.19485887],\n",
       "       [0.37796709, 0.73616031],\n",
       "       [0.37796709, 0.65827589],\n",
       "       [0.37796709, 0.12562909],\n",
       "       [0.37796709, 0.94418557],\n",
       "       [0.37796709, 0.27175823],\n",
       "       [0.37796709, 0.958812  ],\n",
       "       [0.37796709, 0.61704431],\n",
       "       [0.37796709, 0.63367342],\n",
       "       [0.37796709, 0.42583373],\n",
       "       [0.37796709, 0.57457249],\n",
       "       [0.31448031, 0.19485887],\n",
       "       [0.31448031, 0.73616031],\n",
       "       [0.31448031, 0.65827589],\n",
       "       [0.31448031, 0.12562909],\n",
       "       [0.31448031, 0.94418557],\n",
       "       [0.31448031, 0.27175823],\n",
       "       [0.31448031, 0.958812  ],\n",
       "       [0.31448031, 0.61704431],\n",
       "       [0.31448031, 0.63367342],\n",
       "       [0.31448031, 0.42583373],\n",
       "       [0.31448031, 0.57457249],\n",
       "       [0.19485887, 0.73616031],\n",
       "       [0.19485887, 0.65827589],\n",
       "       [0.19485887, 0.12562909],\n",
       "       [0.19485887, 0.94418557],\n",
       "       [0.19485887, 0.27175823],\n",
       "       [0.19485887, 0.958812  ],\n",
       "       [0.19485887, 0.61704431],\n",
       "       [0.19485887, 0.63367342],\n",
       "       [0.19485887, 0.42583373],\n",
       "       [0.19485887, 0.57457249],\n",
       "       [0.73616031, 0.65827589],\n",
       "       [0.73616031, 0.12562909],\n",
       "       [0.73616031, 0.94418557],\n",
       "       [0.73616031, 0.27175823],\n",
       "       [0.73616031, 0.958812  ],\n",
       "       [0.73616031, 0.61704431],\n",
       "       [0.73616031, 0.63367342],\n",
       "       [0.73616031, 0.42583373],\n",
       "       [0.73616031, 0.57457249],\n",
       "       [0.65827589, 0.12562909],\n",
       "       [0.65827589, 0.94418557],\n",
       "       [0.65827589, 0.27175823],\n",
       "       [0.65827589, 0.958812  ],\n",
       "       [0.65827589, 0.61704431],\n",
       "       [0.65827589, 0.63367342],\n",
       "       [0.65827589, 0.42583373],\n",
       "       [0.65827589, 0.57457249],\n",
       "       [0.12562909, 0.94418557],\n",
       "       [0.12562909, 0.27175823],\n",
       "       [0.12562909, 0.958812  ],\n",
       "       [0.12562909, 0.61704431],\n",
       "       [0.12562909, 0.63367342],\n",
       "       [0.12562909, 0.42583373],\n",
       "       [0.12562909, 0.57457249],\n",
       "       [0.94418557, 0.27175823],\n",
       "       [0.94418557, 0.958812  ],\n",
       "       [0.94418557, 0.61704431],\n",
       "       [0.94418557, 0.63367342],\n",
       "       [0.94418557, 0.42583373],\n",
       "       [0.94418557, 0.57457249],\n",
       "       [0.27175823, 0.958812  ],\n",
       "       [0.27175823, 0.61704431],\n",
       "       [0.27175823, 0.63367342],\n",
       "       [0.27175823, 0.42583373],\n",
       "       [0.27175823, 0.57457249],\n",
       "       [0.958812  , 0.61704431],\n",
       "       [0.958812  , 0.63367342],\n",
       "       [0.958812  , 0.42583373],\n",
       "       [0.958812  , 0.57457249],\n",
       "       [0.61704431, 0.63367342],\n",
       "       [0.61704431, 0.42583373],\n",
       "       [0.61704431, 0.57457249],\n",
       "       [0.63367342, 0.42583373],\n",
       "       [0.63367342, 0.57457249],\n",
       "       [0.42583373, 0.57457249]])"
      ]
     },
     "execution_count": 9,
     "metadata": {},
     "output_type": "execute_result"
    }
   ],
   "source": [
    "x_pairs = np.array([r[0][ids_pairs[:,0]], r[0][ids_pairs[:,1]]]).T\n",
    "x_pairs"
   ]
  },
  {
   "cell_type": "markdown",
   "metadata": {},
   "source": [
    "* Then take the difference to get $\\Delta x_{ij}$ of all pairs"
   ]
  },
  {
   "cell_type": "code",
   "execution_count": 10,
   "metadata": {},
   "outputs": [
    {
     "data": {
      "text/plain": [
       "array([-0.08198421,  0.3162368 ,  0.08720046,  0.02371367, -0.09590776,\n",
       "        0.44539368,  0.36750925, -0.16513755,  0.65341893, -0.01900841,\n",
       "        0.66804537,  0.32627767,  0.34290679,  0.13506709,  0.28380585,\n",
       "        0.39822101,  0.16918467,  0.10569788, -0.01392355,  0.52737789,\n",
       "        0.44949346, -0.08315334,  0.73540314,  0.0629758 ,  0.75002958,\n",
       "        0.40826188,  0.424891  ,  0.21705131,  0.36579007, -0.22903634,\n",
       "       -0.29252313, -0.41214456,  0.12915688,  0.05127245, -0.48137435,\n",
       "        0.33718214, -0.33524521,  0.35180857,  0.01004088,  0.02666999,\n",
       "       -0.1811697 , -0.03243094, -0.06348679, -0.18310822,  0.35819322,\n",
       "        0.28030879, -0.25233801,  0.56621848, -0.10620887,  0.58084491,\n",
       "        0.23907722,  0.25570633,  0.04786664,  0.1966054 , -0.11962143,\n",
       "        0.42168001,  0.34379558, -0.18885122,  0.62970526, -0.04272208,\n",
       "        0.6443317 ,  0.302564  ,  0.31919312,  0.11135342,  0.26009218,\n",
       "        0.54130144,  0.46341701, -0.06922979,  0.7493267 ,  0.07689935,\n",
       "        0.76395313,  0.42218544,  0.43881455,  0.23097486,  0.37971362,\n",
       "       -0.07788443, -0.61053123,  0.20802526, -0.46440209,  0.22265169,\n",
       "       -0.119116  , -0.10248689, -0.31032658, -0.16158782, -0.5326468 ,\n",
       "        0.28590968, -0.38651766,  0.30053612, -0.04123158, -0.02460246,\n",
       "       -0.23244216, -0.0837034 ,  0.81855648,  0.14612914,  0.83318292,\n",
       "        0.49141522,  0.50804434,  0.30020464,  0.4489434 , -0.67242734,\n",
       "        0.01462643, -0.32714126, -0.31051215, -0.51835184, -0.36961308,\n",
       "        0.68705378,  0.34528608,  0.3619152 ,  0.1540755 ,  0.30281426,\n",
       "       -0.34176769, -0.32513858, -0.53297827, -0.38423951,  0.01662911,\n",
       "       -0.19121058, -0.04247182, -0.20783969, -0.05910093,  0.14873876])"
      ]
     },
     "execution_count": 10,
     "metadata": {},
     "output_type": "execute_result"
    }
   ],
   "source": [
    "dx_pairs = np.diff(x_pairs, axis=1).ravel()\n",
    "dx_pairs"
   ]
  },
  {
   "cell_type": "markdown",
   "metadata": {},
   "source": [
    "The total distance is just $d_{ij}= \\sqrt{\\Delta x_{ij}^2 + \\Delta y_{ij}^2}$. Since there are $n(n-1)/2$ pairs, there will be $n(n-1)/2$ different values of $d_{ij}$."
   ]
  },
  {
   "cell_type": "code",
   "execution_count": 11,
   "metadata": {},
   "outputs": [
    {
     "data": {
      "text/plain": [
       "array([0.55494127, 0.33408674, 0.36689118, 0.60846294, 0.65256444,\n",
       "       0.55069714, 0.57143297, 0.65802889, 0.82866633, 0.34558552,\n",
       "       0.69535787, 0.68477567, 0.38744794, 0.54546033, 0.39384841,\n",
       "       0.59427124, 0.25626097, 0.12112234, 0.09762428, 1.01969164,\n",
       "       0.46306235, 0.12115855, 0.73644787, 0.89612981, 0.83017788,\n",
       "       0.41171287, 0.84397087, 0.21800588, 0.45809869, 0.33804983,\n",
       "       0.57950752, 0.67751295, 0.45052201, 0.33379561, 0.71540528,\n",
       "       0.52460757, 0.56340103, 0.36198535, 0.49440743, 0.28933641,\n",
       "       0.45808027, 0.16848571, 0.25950835, 0.34220983, 0.76879106,\n",
       "       0.29183234, 0.37736819, 0.58659375, 0.70943554, 0.6033925 ,\n",
       "       0.34279909, 0.59453899, 0.17862804, 0.2135247 , 0.12535489,\n",
       "       1.02283776, 0.38371869, 0.19106031, 0.63734119, 0.95402008,\n",
       "       0.76642851, 0.30262257, 0.85053021, 0.13683645, 0.42405436,\n",
       "       1.11024466, 0.50791605, 0.06975056, 0.7615398 , 0.99352102,\n",
       "       0.88791147, 0.42441349, 0.93518551, 0.25891999, 0.5318509 ,\n",
       "       0.76541871, 1.13840382, 0.85907586, 0.46488538, 0.56276002,\n",
       "       0.93354756, 0.17634574, 0.90707856, 0.61843018, 0.56874504,\n",
       "       0.29485149, 0.87287938, 0.38749618, 0.16956066, 0.61842844,\n",
       "       0.24958301, 0.18457048, 0.82840096, 0.99284569, 0.94410229,\n",
       "       0.49265463, 0.96236348, 0.31920924, 0.57790059, 1.08750743,\n",
       "       0.31700492, 0.33994221, 0.75665065, 0.5186939 , 0.43883421,\n",
       "       0.87265296, 1.00808662, 0.39762855, 0.88701946, 0.68832565,\n",
       "       0.53305538, 0.49506939, 0.62978351, 0.39250076, 0.78258678,\n",
       "       0.20487704, 0.33170079, 0.73867862, 0.45727499, 0.2955514 ])"
      ]
     },
     "execution_count": 11,
     "metadata": {},
     "output_type": "execute_result"
    }
   ],
   "source": [
    "x_pairs = np.array([r[0][ids_pairs[:,0]], r[0][ids_pairs[:,1]]]).T\n",
    "y_pairs = np.array([r[1][ids_pairs[:,0]], r[1][ids_pairs[:,1]]]).T\n",
    "dx_pairs = np.diff(x_pairs, axis=1).ravel()\n",
    "dy_pairs = np.diff(y_pairs, axis=1).ravel()\n",
    "d_pairs = np.sqrt(dx_pairs**2 + dy_pairs**2)\n",
    "d_pairs"
   ]
  },
  {
   "cell_type": "markdown",
   "metadata": {},
   "source": [
    "# Part 2: Velocities of a Collision"
   ]
  },
  {
   "cell_type": "markdown",
   "metadata": {},
   "source": [
    "So at each iteration of the simulation, we will evaluate `d_pairs`, and if any of the distances between particles is less than $2r$, then a collision occurs. What is the final velocity of each of the two spheres? In an elastic collision (conservation of energy + momentum + angular momentum), one can show\n",
    "\n",
    "$$\\vec{v}_1^{\\text{new}} = \\vec{v}_1 - \\frac{(\\vec{v}_1 - \\vec{v}_2) \\cdot (\\vec{r}_1 - \\vec{r}_2)}{|\\vec{r}_1 - \\vec{r}_2|^2} (\\vec{r}_1 - \\vec{r}_2)$$\n",
    "$$\\vec{v}_2^{\\text{new}} = \\vec{v}_2 - \\frac{(\\vec{v}_2 - \\vec{v}_1) \\cdot (\\vec{r}_2 - \\vec{r}_1)}{|\\vec{r}_1 - \\vec{r}_2|^2} (\\vec{r}_2 - \\vec{r}_1)$$"
   ]
  },
  {
   "cell_type": "code",
   "execution_count": 12,
   "metadata": {},
   "outputs": [
    {
     "data": {
      "text/plain": [
       "array([[1, 5],\n",
       "       [5, 8]])"
      ]
     },
     "execution_count": 12,
     "metadata": {},
     "output_type": "execute_result"
    }
   ],
   "source": [
    "radius = 0.06\n",
    "ids_pairs_collide = ids_pairs[d_pairs < 2*radius]\n",
    "ids_pairs_collide"
   ]
  },
  {
   "cell_type": "markdown",
   "metadata": {},
   "source": [
    "We will call all the particles in the left column \"1\" and the right column \"2\""
   ]
  },
  {
   "cell_type": "code",
   "execution_count": 13,
   "metadata": {},
   "outputs": [],
   "source": [
    "v1 = v[:,ids_pairs_collide[:,0]]\n",
    "v2 = v[:,ids_pairs_collide[:,1]]\n",
    "r1 = r[:,ids_pairs_collide[:,0]]\n",
    "r2 = r[:,ids_pairs_collide[:,1]]"
   ]
  },
  {
   "cell_type": "markdown",
   "metadata": {},
   "source": [
    "Then we can compute the new velocity:"
   ]
  },
  {
   "cell_type": "code",
   "execution_count": 14,
   "metadata": {},
   "outputs": [],
   "source": [
    "v1new = v1 - ((v1-v2)*(r1-r2)).sum(axis=0)/np.sum((r1-r2)**2, axis=0) * (r1-r2)\n",
    "v2new = v2 - ((v1-v2)*(r1-r2)).sum(axis=0)/np.sum((r2-r1)**2, axis=0) * (r2-r1)"
   ]
  },
  {
   "cell_type": "markdown",
   "metadata": {},
   "source": [
    "# Part 3: Functions to Run the Simulation"
   ]
  },
  {
   "cell_type": "markdown",
   "metadata": {},
   "source": [
    "Here we define some functions that will help make running the simulation easier."
   ]
  },
  {
   "cell_type": "code",
   "execution_count": 15,
   "metadata": {},
   "outputs": [],
   "source": [
    "def get_delta_pairs(x, ids_pairs):\n",
    "    return np.diff(np.array([x[ids_pairs[:,0]], x[ids_pairs[:,1]]]).T, axis=1).ravel()\n",
    "\n",
    "def get_deltad_pairs(r, ids_pairs):\n",
    "    return np.sqrt(get_delta_pairs(r[0], ids_pairs)**2 + get_delta_pairs(r[1], ids_pairs)**2)\n",
    "\n",
    "def compute_new_v(v1, v2, r1, r2):\n",
    "    v1new = v1 - ((v1-v2)*(r1-r2)).sum(axis=0)/np.sum((r1-r2)**2, axis=0) * (r1-r2)\n",
    "    v2new = v2 - ((v1-v2)*(r1-r2)).sum(axis=0)/np.sum((r2-r1)**2, axis=0) * (r2-r1)\n",
    "    return v1new, v2new\n",
    "\n",
    "def motion(r, v, id_pairs, ts, dt, d_cutoff):\n",
    "    rs = np.zeros((ts, r.shape[0], r.shape[1]))\n",
    "    vs = np.zeros((ts, v.shape[0], v.shape[1]))\n",
    "    # Initial State\n",
    "    rs[0] = r.copy()\n",
    "    vs[0] = v.copy()\n",
    "    for i in range(1,ts):\n",
    "        ic = id_pairs[get_deltad_pairs(r, ids_pairs) < d_cutoff]\n",
    "        v[:,ic[:,0]], v[:,ic[:,1]] = compute_new_v(v[:,ic[:,0]], v[:,ic[:,1]], r[:,ic[:,0]], r[:,ic[:,1]])\n",
    "        \n",
    "        v[0,r[0]>1] = -np.abs(v[0,r[0]>1])\n",
    "        v[0,r[0]<0] = np.abs(v[0,r[0]<0])\n",
    "        v[1,r[1]>1] = -np.abs(v[1,r[1]>1])\n",
    "        v[1,r[1]<0] = np.abs(v[1,r[1]<0])\n",
    "        \n",
    "        r = r + v*dt\n",
    "        rs[i] = r.copy()\n",
    "        vs[i] = v.copy()\n",
    "    return rs, vs"
   ]
  },
  {
   "cell_type": "markdown",
   "metadata": {},
   "source": [
    "Set the radius and find the position of all particles as a function of time (3D array `rs` where each axis is $(t,x,y)$)."
   ]
  },
  {
   "cell_type": "code",
   "execution_count": 16,
   "metadata": {},
   "outputs": [],
   "source": [
    "radius = 0.03\n",
    "rs, vs = motion(r, v, ids_pairs, ts=1000, dt=0.000008, d_cutoff=2*radius)"
   ]
  },
  {
   "cell_type": "markdown",
   "metadata": {},
   "source": [
    "Plot red and blue circles, making sure each is the correct size."
   ]
  },
  {
   "cell_type": "code",
   "execution_count": 17,
   "metadata": {},
   "outputs": [
    {
     "data": {
      "image/png": "[encoded data removed]",
      "text/plain": [
       "<Figure size 500x500 with 1 Axes>"
      ]
     },
     "metadata": {},
     "output_type": "display_data"
    }
   ],
   "source": [
    "fig, ax = plt.subplots(1,1,figsize=(5,5))\n",
    "xred, yred = rs[0][0][ixr], rs[0][1][ixr]\n",
    "xblue, yblue = rs[0][0][ixl],rs[0][1][ixl]\n",
    "circles_red = [plt.Circle((xi, yi), radius=radius, linewidth=0) for xi,yi in zip(xred,yred)]\n",
    "circles_blue = [plt.Circle((xi, yi), radius=radius, linewidth=0) for xi,yi in zip(xblue,yblue)]\n",
    "cred = matplotlib.collections.PatchCollection(circles_red, facecolors='red')\n",
    "cblue = matplotlib.collections.PatchCollection(circles_blue, facecolors='blue')\n",
    "ax.add_collection(cred)\n",
    "ax.add_collection(cblue)\n",
    "ax.set_xlim(0,1)\n",
    "ax.set_ylim(0,1)\n",
    "plt.show()"
   ]
  },
  {
   "cell_type": "markdown",
   "metadata": {},
   "source": [
    "Make initial animation of the simulation"
   ]
  },
  {
   "cell_type": "code",
   "execution_count": 17,
   "metadata": {},
   "outputs": [
    {
     "data": {
      "image/png": "[encoded data removed]",
      "text/plain": [
       "<Figure size 500x500 with 1 Axes>"
      ]
     },
     "metadata": {},
     "output_type": "display_data"
    }
   ],
   "source": [
    "fig, ax = plt.subplots(1,1,figsize=(5,5))\n",
    "\n",
    "def animate(i):\n",
    "    ax.clear()\n",
    "    xred, yred = rs[i][0][ixr], rs[i][1][ixr]\n",
    "    xblue, yblue = rs[i][0][ixl],rs[i][1][ixl]\n",
    "    circles_red = [plt.Circle((xi, yi), radius=radius, linewidth=0) for xi,yi in zip(xred,yred)]\n",
    "    circles_blue = [plt.Circle((xi, yi), radius=radius, linewidth=0) for xi,yi in zip(xblue,yblue)]\n",
    "    cred = matplotlib.collections.PatchCollection(circles_red, facecolors='red')\n",
    "    cblue = matplotlib.collections.PatchCollection(circles_blue, facecolors='blue')\n",
    "    ax.add_collection(cred)\n",
    "    ax.add_collection(cblue)\n",
    "    ax.set_xlim(0,1)\n",
    "    ax.set_ylim(0,1)\n",
    "    \n",
    "ani = animation.FuncAnimation(fig, animate, frames=500, interval=50)\n",
    "ani.save('ani3.gif',writer='pillow',fps=30,dpi=100)"
   ]
  },
  {
   "cell_type": "markdown",
   "metadata": {},
   "source": [
    "Now that we're sure that it works, lets make a simulation containing many more particles"
   ]
  },
  {
   "cell_type": "code",
   "execution_count": 18,
   "metadata": {},
   "outputs": [],
   "source": [
    "n_particles = 5000\n",
    "r = np.random.random((2,n_particles))\n",
    "ixr = r[0]>0.5 \n",
    "ixl = r[0]<=0.5 \n",
    "ids = np.arange(n_particles)\n",
    "ids_pairs = np.asarray(list(combinations(ids,2)))\n",
    "v = np.zeros((2,n_particles))\n",
    "v[0][ixr] = -500\n",
    "v[0][ixl] = 500\n",
    "radius = 0.0015\n",
    "rs, vs = motion(r, v, ids_pairs, ts=1000, dt=0.000008, d_cutoff=2*radius)"
   ]
  },
  {
   "cell_type": "markdown",
   "metadata": {},
   "source": [
    "Let's look at the final velocity distribution of the particles and compare it to Maxwell-Boltzmann in 2 Dimensions:\n",
    "\n",
    "* $kT = KE_{avg} = \\frac{1}{2}m\\bar{v^2} \\implies \\boxed{\\frac{m}{kT} = \\frac{2}{\\bar{v^2}}}$\n",
    "* $\\boxed{f(v) = \\frac{m}{kT} v \\exp\\left(-\\frac{m}{kT}\\frac{v^2}{2} \\right)}$"
   ]
  },
  {
   "cell_type": "code",
   "execution_count": 19,
   "metadata": {},
   "outputs": [],
   "source": [
    "v = np.linspace(0, 2000, 1000)\n",
    "a = 2/500**2\n",
    "fv = a*v*np.exp(-a*v**2 / 2)"
   ]
  },
  {
   "cell_type": "markdown",
   "metadata": {},
   "source": [
    "Plot the final histogram next to this curve:"
   ]
  },
  {
   "cell_type": "code",
   "execution_count": 21,
   "metadata": {},
   "outputs": [
    {
     "data": {
      "text/plain": [
       "Text(0, 0.5, '# Particles')"
      ]
     },
     "execution_count": 21,
     "metadata": {},
     "output_type": "execute_result"
    },
    {
     "data": {
      "image/png": "[encoded data removed]",
      "text/plain": [
       "<Figure size 800x600 with 1 Axes>"
      ]
     },
     "metadata": {},
     "output_type": "display_data"
    }
   ],
   "source": [
    "bins = np.linspace(0,1500,50)\n",
    "plt.figure()\n",
    "plt.hist(np.sqrt(np.sum(vs[400]**2, axis=0)), bins=bins, density=True)\n",
    "plt.plot(v,fv)\n",
    "plt.xlabel('Velocity [m/s]')\n",
    "plt.ylabel('# Particles')"
   ]
  },
  {
   "cell_type": "markdown",
   "metadata": {},
   "source": [
    "Finally, we can make an animation of the particles moving around and the histogram at the same time"
   ]
  },
  {
   "cell_type": "code",
   "execution_count": null,
   "metadata": {},
   "outputs": [],
   "source": [
    "fig, axes = plt.subplots(1, 2, figsize=(20,10))\n",
    "\n",
    "def animate(i):\n",
    "    [ax.clear() for ax in axes]\n",
    "    ax = axes[0]\n",
    "    xred, yred = rs[i][0][ixr], rs[i][1][ixr]\n",
    "    xblue, yblue = rs[i][0][ixl],rs[i][1][ixl]\n",
    "    circles_red = [plt.Circle((xi, yi), radius=4*radius, linewidth=0) for xi,yi in zip(xred,yred)]\n",
    "    circles_blue = [plt.Circle((xi, yi), radius=4*radius, linewidth=0) for xi,yi in zip(xblue,yblue)]\n",
    "    cred = matplotlib.collections.PatchCollection(circles_red, facecolors='red')\n",
    "    cblue = matplotlib.collections.PatchCollection(circles_blue, facecolors='blue')\n",
    "    ax.add_collection(cred)\n",
    "    ax.add_collection(cblue)\n",
    "    ax.set_xlim(0,1)\n",
    "    ax.set_ylim(0,1)\n",
    "    ax.tick_params(axis='x', labelsize=15)\n",
    "    ax.tick_params(axis='y', labelsize=15)\n",
    "    ax = axes[1]\n",
    "    ax.hist(np.sqrt(np.sum(vs[i]**2, axis=0)), bins=bins, density=True)\n",
    "    ax.plot(v,fv)\n",
    "    ax.set_xlabel('Velocity [m/s]')\n",
    "    ax.set_ylabel('# Particles')\n",
    "    ax.set_xlim(0,1500)\n",
    "    ax.set_ylim(0,0.006)\n",
    "    ax.tick_params(axis='x', labelsize=15)\n",
    "    ax.tick_params(axis='y', labelsize=15)\n",
    "    fig.tight_layout()\n",
    "    \n",
    "    \n",
    "ani = animation.FuncAnimation(fig, animate, frames=500, interval=50)\n",
    "ani.save('ani.gif',writer='pillow',fps=30,dpi=100)"
   ]
  }
 ],
 "metadata": {
  "kernelspec": {
   "display_name": "Python 3",
   "language": "python",
   "name": "python3"
  },
  "language_info": {
   "codemirror_mode": {
    "name": "ipython",
    "version": 3
   },
   "file_extension": ".py",
   "mimetype": "text/x-python",
   "name": "python",
   "nbconvert_exporter": "python",
   "pygments_lexer": "ipython3",
   "version": "3.9.13"
  }
 },
 "nbformat": 4,
 "nbformat_minor": 4
}
